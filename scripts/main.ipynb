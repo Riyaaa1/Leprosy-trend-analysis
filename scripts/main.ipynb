{
 "cells": [
  {
   "cell_type": "code",
   "execution_count": 5,
   "metadata": {},
   "outputs": [],
   "source": [
    "# common imports\n",
    "import warnings\n",
    "warnings.filterwarnings('ignore')\n",
    "\n",
    "import pandas as pd\n",
    "import matplotlib.pyplot as plt\n",
    "import plotly.express as px\n",
    "import numpy as np\n",
    "import seaborn as sns\n",
    "sns.set_palette('viridis')\n",
    "# working with regular expressions\n",
    "import re \n",
    "\n",
    "import scispacy\n",
    "import spacy\n",
    "\n",
    "\n",
    "import gensim # topic modelling\n",
    "from nltk.tokenize import word_tokenize\n",
    "from gensim.models.phrases import Phrases\n",
    "from nltk.corpus import stopwords\n",
    "\n",
    "import gensim.corpora as corpora\n",
    "from gensim.models import TfidfModel\n",
    "\n",
    "from gensim.models import LdaModel\n",
    "from gensim.models.coherencemodel import CoherenceModel\n",
    "\n",
    "# visualizations\n",
    "from wordcloud import WordCloud\n",
    "from PIL import Image"
   ]
  },
  {
   "cell_type": "code",
   "execution_count": 6,
   "metadata": {},
   "outputs": [
    {
     "data": {
      "text/html": [
       "<div>\n",
       "<style scoped>\n",
       "    .dataframe tbody tr th:only-of-type {\n",
       "        vertical-align: middle;\n",
       "    }\n",
       "\n",
       "    .dataframe tbody tr th {\n",
       "        vertical-align: top;\n",
       "    }\n",
       "\n",
       "    .dataframe thead th {\n",
       "        text-align: right;\n",
       "    }\n",
       "</style>\n",
       "<table border=\"1\" class=\"dataframe\">\n",
       "  <thead>\n",
       "    <tr style=\"text-align: right;\">\n",
       "      <th></th>\n",
       "      <th>title</th>\n",
       "      <th>abstract</th>\n",
       "      <th>journal</th>\n",
       "      <th>publication_type</th>\n",
       "      <th>language</th>\n",
       "      <th>publication_year</th>\n",
       "    </tr>\n",
       "  </thead>\n",
       "  <tbody>\n",
       "    <tr>\n",
       "      <th>0</th>\n",
       "      <td>Leprosy: Clinical aspects and diagnostic techn...</td>\n",
       "      <td>Leprosy, also known as Hansen's disease, is a ...</td>\n",
       "      <td>Journal of the American Academy of Dermatology</td>\n",
       "      <td>Journal Article</td>\n",
       "      <td>eng</td>\n",
       "      <td>2020</td>\n",
       "    </tr>\n",
       "    <tr>\n",
       "      <th>1</th>\n",
       "      <td>Position statement: LEPROSY: Diagnosis, treatm...</td>\n",
       "      <td>Leprosy or Hansen's disease is a chronic infec...</td>\n",
       "      <td>Journal of the European Academy of Dermatology...</td>\n",
       "      <td>Journal Article</td>\n",
       "      <td>eng</td>\n",
       "      <td>2019</td>\n",
       "    </tr>\n",
       "    <tr>\n",
       "      <th>2</th>\n",
       "      <td>Leprosy in the 21st century.</td>\n",
       "      <td>Despite significant improvements in leprosy (H...</td>\n",
       "      <td>Clinical microbiology reviews</td>\n",
       "      <td>Journal Article</td>\n",
       "      <td>eng</td>\n",
       "      <td>2015</td>\n",
       "    </tr>\n",
       "    <tr>\n",
       "      <th>3</th>\n",
       "      <td>Neuropathies of leprosy.</td>\n",
       "      <td>Neuropathies form an integral part of the symp...</td>\n",
       "      <td>Journal of the neurological sciences</td>\n",
       "      <td>Journal Article</td>\n",
       "      <td>eng</td>\n",
       "      <td>2021</td>\n",
       "    </tr>\n",
       "    <tr>\n",
       "      <th>4</th>\n",
       "      <td>Leprosy.</td>\n",
       "      <td>The World Health Organization field leprosy cl...</td>\n",
       "      <td>BMJ clinical evidence</td>\n",
       "      <td>Journal Article</td>\n",
       "      <td>eng</td>\n",
       "      <td>2007</td>\n",
       "    </tr>\n",
       "  </tbody>\n",
       "</table>\n",
       "</div>"
      ],
      "text/plain": [
       "                                               title  \\\n",
       "0  Leprosy: Clinical aspects and diagnostic techn...   \n",
       "1  Position statement: LEPROSY: Diagnosis, treatm...   \n",
       "2                       Leprosy in the 21st century.   \n",
       "3                           Neuropathies of leprosy.   \n",
       "4                                           Leprosy.   \n",
       "\n",
       "                                            abstract  \\\n",
       "0  Leprosy, also known as Hansen's disease, is a ...   \n",
       "1  Leprosy or Hansen's disease is a chronic infec...   \n",
       "2  Despite significant improvements in leprosy (H...   \n",
       "3  Neuropathies form an integral part of the symp...   \n",
       "4  The World Health Organization field leprosy cl...   \n",
       "\n",
       "                                             journal publication_type  \\\n",
       "0     Journal of the American Academy of Dermatology  Journal Article   \n",
       "1  Journal of the European Academy of Dermatology...  Journal Article   \n",
       "2                      Clinical microbiology reviews  Journal Article   \n",
       "3               Journal of the neurological sciences  Journal Article   \n",
       "4                              BMJ clinical evidence  Journal Article   \n",
       "\n",
       "  language publication_year  \n",
       "0      eng             2020  \n",
       "1      eng             2019  \n",
       "2      eng             2015  \n",
       "3      eng             2021  \n",
       "4      eng             2007  "
      ]
     },
     "execution_count": 6,
     "metadata": {},
     "output_type": "execute_result"
    }
   ],
   "source": [
    "# reading the dataframe-- this data represents articles focusing on leprosy research \n",
    "df = pd.read_csv(\"/home/riya/Research trend analysis/data/total_pm.csv\")\n",
    "df.head()"
   ]
  },
  {
   "cell_type": "code",
   "execution_count": 7,
   "metadata": {},
   "outputs": [],
   "source": [
    "df['publication_year'].replace('No Data',np.NaN,inplace=True)\n",
    "df['publication_year']=pd.to_numeric(df['publication_year'])\n",
    "\n",
    "lang=[df['language'].unique()]"
   ]
  },
  {
   "cell_type": "markdown",
   "metadata": {},
   "source": [
    "Publication stats"
   ]
  },
  {
   "cell_type": "code",
   "execution_count": 8,
   "metadata": {},
   "outputs": [
    {
     "data": {
      "text/plain": [
       "publication_type\n",
       "Journal Article                      6686\n",
       "Case Reports                          794\n",
       "English Abstract                      434\n",
       "Historical Article                    426\n",
       "Letter                                419\n",
       "Comparative Study                     291\n",
       "Editorial                             255\n",
       "Biography                             208\n",
       "Comment                               158\n",
       "Clinical Trial                        112\n",
       "Congress                               89\n",
       "News                                   37\n",
       "Evaluation Study                       29\n",
       "Bibliography                            8\n",
       "Interview                               8\n",
       "Systematic Review                       6\n",
       "Address                                 6\n",
       "Consensus Development Conference        5\n",
       "Guideline                               4\n",
       "Observational Study                     4\n",
       "Introductory Journal Article            3\n",
       "Meta-Analysis                           3\n",
       "Clinical Trial Protocol                 3\n",
       "Review                                  3\n",
       "Lecture                                 2\n",
       "Corrected and Republished Article       2\n",
       "Autobiography                           1\n",
       "Randomized Controlled Trial             1\n",
       "Directory                               1\n",
       "Controlled Clinical Trial               1\n",
       "Name: count, dtype: int64"
      ]
     },
     "execution_count": 8,
     "metadata": {},
     "output_type": "execute_result"
    }
   ],
   "source": [
    "df['publication_type'].value_counts()"
   ]
  },
  {
   "cell_type": "markdown",
   "metadata": {},
   "source": [
    "There are different types of articles included in this data. Let's visualise the percentage of each type and publications per year."
   ]
  },
  {
   "cell_type": "code",
   "execution_count": 9,
   "metadata": {},
   "outputs": [],
   "source": [
    "pub_counts=(df['publication_type'].value_counts()/df['publication_type'].value_counts().sum())*100"
   ]
  },
  {
   "cell_type": "code",
   "execution_count": 10,
   "metadata": {},
   "outputs": [
    {
     "data": {
      "application/vnd.plotly.v1+json": {
       "config": {
        "plotlyServerURL": "https://plot.ly"
       },
       "data": [
        {
         "alignmentgroup": "True",
         "hovertemplate": "x=%{x}<br>y=%{y}<extra></extra>",
         "legendgroup": "",
         "marker": {
          "color": "#636efa",
          "pattern": {
           "shape": ""
          }
         },
         "name": "",
         "offsetgroup": "",
         "orientation": "v",
         "showlegend": false,
         "textposition": "auto",
         "type": "bar",
         "x": [
          "Journal Article",
          "Case Reports",
          "English Abstract",
          "Historical Article",
          "Letter",
          "Comparative Study",
          "Editorial",
          "Biography",
          "Comment",
          "Clinical Trial",
          "Congress",
          "News",
          "Evaluation Study",
          "Bibliography",
          "Interview",
          "Systematic Review",
          "Address",
          "Consensus Development Conference",
          "Guideline",
          "Observational Study",
          "Introductory Journal Article",
          "Meta-Analysis",
          "Clinical Trial Protocol",
          "Review",
          "Lecture",
          "Corrected and Republished Article",
          "Autobiography",
          "Randomized Controlled Trial",
          "Directory",
          "Controlled Clinical Trial"
         ],
         "xaxis": "x",
         "y": [
          66.86668666866686,
          7.940794079407941,
          4.340434043404341,
          4.26042604260426,
          4.190419041904191,
          2.9102910291029103,
          2.5502550255025502,
          2.0802080208020803,
          1.58015801580158,
          1.12011201120112,
          0.89008900890089,
          0.37003700370037007,
          0.29002900290029,
          0.08000800080008001,
          0.08000800080008001,
          0.06000600060006001,
          0.06000600060006001,
          0.05000500050005,
          0.040004000400040006,
          0.040004000400040006,
          0.030003000300030006,
          0.030003000300030006,
          0.030003000300030006,
          0.030003000300030006,
          0.020002000200020003,
          0.020002000200020003,
          0.010001000100010001,
          0.010001000100010001,
          0.010001000100010001,
          0.010001000100010001
         ],
         "yaxis": "y"
        }
       ],
       "layout": {
        "autosize": false,
        "barmode": "relative",
        "height": 600,
        "legend": {
         "tracegroupgap": 0
        },
        "template": {
         "data": {
          "bar": [
           {
            "error_x": {
             "color": "#2a3f5f"
            },
            "error_y": {
             "color": "#2a3f5f"
            },
            "marker": {
             "line": {
              "color": "#E5ECF6",
              "width": 0.5
             },
             "pattern": {
              "fillmode": "overlay",
              "size": 10,
              "solidity": 0.2
             }
            },
            "type": "bar"
           }
          ],
          "barpolar": [
           {
            "marker": {
             "line": {
              "color": "#E5ECF6",
              "width": 0.5
             },
             "pattern": {
              "fillmode": "overlay",
              "size": 10,
              "solidity": 0.2
             }
            },
            "type": "barpolar"
           }
          ],
          "carpet": [
           {
            "aaxis": {
             "endlinecolor": "#2a3f5f",
             "gridcolor": "white",
             "linecolor": "white",
             "minorgridcolor": "white",
             "startlinecolor": "#2a3f5f"
            },
            "baxis": {
             "endlinecolor": "#2a3f5f",
             "gridcolor": "white",
             "linecolor": "white",
             "minorgridcolor": "white",
             "startlinecolor": "#2a3f5f"
            },
            "type": "carpet"
           }
          ],
          "choropleth": [
           {
            "colorbar": {
             "outlinewidth": 0,
             "ticks": ""
            },
            "type": "choropleth"
           }
          ],
          "contour": [
           {
            "colorbar": {
             "outlinewidth": 0,
             "ticks": ""
            },
            "colorscale": [
             [
              0,
              "#0d0887"
             ],
             [
              0.1111111111111111,
              "#46039f"
             ],
             [
              0.2222222222222222,
              "#7201a8"
             ],
             [
              0.3333333333333333,
              "#9c179e"
             ],
             [
              0.4444444444444444,
              "#bd3786"
             ],
             [
              0.5555555555555556,
              "#d8576b"
             ],
             [
              0.6666666666666666,
              "#ed7953"
             ],
             [
              0.7777777777777778,
              "#fb9f3a"
             ],
             [
              0.8888888888888888,
              "#fdca26"
             ],
             [
              1,
              "#f0f921"
             ]
            ],
            "type": "contour"
           }
          ],
          "contourcarpet": [
           {
            "colorbar": {
             "outlinewidth": 0,
             "ticks": ""
            },
            "type": "contourcarpet"
           }
          ],
          "heatmap": [
           {
            "colorbar": {
             "outlinewidth": 0,
             "ticks": ""
            },
            "colorscale": [
             [
              0,
              "#0d0887"
             ],
             [
              0.1111111111111111,
              "#46039f"
             ],
             [
              0.2222222222222222,
              "#7201a8"
             ],
             [
              0.3333333333333333,
              "#9c179e"
             ],
             [
              0.4444444444444444,
              "#bd3786"
             ],
             [
              0.5555555555555556,
              "#d8576b"
             ],
             [
              0.6666666666666666,
              "#ed7953"
             ],
             [
              0.7777777777777778,
              "#fb9f3a"
             ],
             [
              0.8888888888888888,
              "#fdca26"
             ],
             [
              1,
              "#f0f921"
             ]
            ],
            "type": "heatmap"
           }
          ],
          "heatmapgl": [
           {
            "colorbar": {
             "outlinewidth": 0,
             "ticks": ""
            },
            "colorscale": [
             [
              0,
              "#0d0887"
             ],
             [
              0.1111111111111111,
              "#46039f"
             ],
             [
              0.2222222222222222,
              "#7201a8"
             ],
             [
              0.3333333333333333,
              "#9c179e"
             ],
             [
              0.4444444444444444,
              "#bd3786"
             ],
             [
              0.5555555555555556,
              "#d8576b"
             ],
             [
              0.6666666666666666,
              "#ed7953"
             ],
             [
              0.7777777777777778,
              "#fb9f3a"
             ],
             [
              0.8888888888888888,
              "#fdca26"
             ],
             [
              1,
              "#f0f921"
             ]
            ],
            "type": "heatmapgl"
           }
          ],
          "histogram": [
           {
            "marker": {
             "pattern": {
              "fillmode": "overlay",
              "size": 10,
              "solidity": 0.2
             }
            },
            "type": "histogram"
           }
          ],
          "histogram2d": [
           {
            "colorbar": {
             "outlinewidth": 0,
             "ticks": ""
            },
            "colorscale": [
             [
              0,
              "#0d0887"
             ],
             [
              0.1111111111111111,
              "#46039f"
             ],
             [
              0.2222222222222222,
              "#7201a8"
             ],
             [
              0.3333333333333333,
              "#9c179e"
             ],
             [
              0.4444444444444444,
              "#bd3786"
             ],
             [
              0.5555555555555556,
              "#d8576b"
             ],
             [
              0.6666666666666666,
              "#ed7953"
             ],
             [
              0.7777777777777778,
              "#fb9f3a"
             ],
             [
              0.8888888888888888,
              "#fdca26"
             ],
             [
              1,
              "#f0f921"
             ]
            ],
            "type": "histogram2d"
           }
          ],
          "histogram2dcontour": [
           {
            "colorbar": {
             "outlinewidth": 0,
             "ticks": ""
            },
            "colorscale": [
             [
              0,
              "#0d0887"
             ],
             [
              0.1111111111111111,
              "#46039f"
             ],
             [
              0.2222222222222222,
              "#7201a8"
             ],
             [
              0.3333333333333333,
              "#9c179e"
             ],
             [
              0.4444444444444444,
              "#bd3786"
             ],
             [
              0.5555555555555556,
              "#d8576b"
             ],
             [
              0.6666666666666666,
              "#ed7953"
             ],
             [
              0.7777777777777778,
              "#fb9f3a"
             ],
             [
              0.8888888888888888,
              "#fdca26"
             ],
             [
              1,
              "#f0f921"
             ]
            ],
            "type": "histogram2dcontour"
           }
          ],
          "mesh3d": [
           {
            "colorbar": {
             "outlinewidth": 0,
             "ticks": ""
            },
            "type": "mesh3d"
           }
          ],
          "parcoords": [
           {
            "line": {
             "colorbar": {
              "outlinewidth": 0,
              "ticks": ""
             }
            },
            "type": "parcoords"
           }
          ],
          "pie": [
           {
            "automargin": true,
            "type": "pie"
           }
          ],
          "scatter": [
           {
            "fillpattern": {
             "fillmode": "overlay",
             "size": 10,
             "solidity": 0.2
            },
            "type": "scatter"
           }
          ],
          "scatter3d": [
           {
            "line": {
             "colorbar": {
              "outlinewidth": 0,
              "ticks": ""
             }
            },
            "marker": {
             "colorbar": {
              "outlinewidth": 0,
              "ticks": ""
             }
            },
            "type": "scatter3d"
           }
          ],
          "scattercarpet": [
           {
            "marker": {
             "colorbar": {
              "outlinewidth": 0,
              "ticks": ""
             }
            },
            "type": "scattercarpet"
           }
          ],
          "scattergeo": [
           {
            "marker": {
             "colorbar": {
              "outlinewidth": 0,
              "ticks": ""
             }
            },
            "type": "scattergeo"
           }
          ],
          "scattergl": [
           {
            "marker": {
             "colorbar": {
              "outlinewidth": 0,
              "ticks": ""
             }
            },
            "type": "scattergl"
           }
          ],
          "scattermapbox": [
           {
            "marker": {
             "colorbar": {
              "outlinewidth": 0,
              "ticks": ""
             }
            },
            "type": "scattermapbox"
           }
          ],
          "scatterpolar": [
           {
            "marker": {
             "colorbar": {
              "outlinewidth": 0,
              "ticks": ""
             }
            },
            "type": "scatterpolar"
           }
          ],
          "scatterpolargl": [
           {
            "marker": {
             "colorbar": {
              "outlinewidth": 0,
              "ticks": ""
             }
            },
            "type": "scatterpolargl"
           }
          ],
          "scatterternary": [
           {
            "marker": {
             "colorbar": {
              "outlinewidth": 0,
              "ticks": ""
             }
            },
            "type": "scatterternary"
           }
          ],
          "surface": [
           {
            "colorbar": {
             "outlinewidth": 0,
             "ticks": ""
            },
            "colorscale": [
             [
              0,
              "#0d0887"
             ],
             [
              0.1111111111111111,
              "#46039f"
             ],
             [
              0.2222222222222222,
              "#7201a8"
             ],
             [
              0.3333333333333333,
              "#9c179e"
             ],
             [
              0.4444444444444444,
              "#bd3786"
             ],
             [
              0.5555555555555556,
              "#d8576b"
             ],
             [
              0.6666666666666666,
              "#ed7953"
             ],
             [
              0.7777777777777778,
              "#fb9f3a"
             ],
             [
              0.8888888888888888,
              "#fdca26"
             ],
             [
              1,
              "#f0f921"
             ]
            ],
            "type": "surface"
           }
          ],
          "table": [
           {
            "cells": {
             "fill": {
              "color": "#EBF0F8"
             },
             "line": {
              "color": "white"
             }
            },
            "header": {
             "fill": {
              "color": "#C8D4E3"
             },
             "line": {
              "color": "white"
             }
            },
            "type": "table"
           }
          ]
         },
         "layout": {
          "annotationdefaults": {
           "arrowcolor": "#2a3f5f",
           "arrowhead": 0,
           "arrowwidth": 1
          },
          "autotypenumbers": "strict",
          "coloraxis": {
           "colorbar": {
            "outlinewidth": 0,
            "ticks": ""
           }
          },
          "colorscale": {
           "diverging": [
            [
             0,
             "#8e0152"
            ],
            [
             0.1,
             "#c51b7d"
            ],
            [
             0.2,
             "#de77ae"
            ],
            [
             0.3,
             "#f1b6da"
            ],
            [
             0.4,
             "#fde0ef"
            ],
            [
             0.5,
             "#f7f7f7"
            ],
            [
             0.6,
             "#e6f5d0"
            ],
            [
             0.7,
             "#b8e186"
            ],
            [
             0.8,
             "#7fbc41"
            ],
            [
             0.9,
             "#4d9221"
            ],
            [
             1,
             "#276419"
            ]
           ],
           "sequential": [
            [
             0,
             "#0d0887"
            ],
            [
             0.1111111111111111,
             "#46039f"
            ],
            [
             0.2222222222222222,
             "#7201a8"
            ],
            [
             0.3333333333333333,
             "#9c179e"
            ],
            [
             0.4444444444444444,
             "#bd3786"
            ],
            [
             0.5555555555555556,
             "#d8576b"
            ],
            [
             0.6666666666666666,
             "#ed7953"
            ],
            [
             0.7777777777777778,
             "#fb9f3a"
            ],
            [
             0.8888888888888888,
             "#fdca26"
            ],
            [
             1,
             "#f0f921"
            ]
           ],
           "sequentialminus": [
            [
             0,
             "#0d0887"
            ],
            [
             0.1111111111111111,
             "#46039f"
            ],
            [
             0.2222222222222222,
             "#7201a8"
            ],
            [
             0.3333333333333333,
             "#9c179e"
            ],
            [
             0.4444444444444444,
             "#bd3786"
            ],
            [
             0.5555555555555556,
             "#d8576b"
            ],
            [
             0.6666666666666666,
             "#ed7953"
            ],
            [
             0.7777777777777778,
             "#fb9f3a"
            ],
            [
             0.8888888888888888,
             "#fdca26"
            ],
            [
             1,
             "#f0f921"
            ]
           ]
          },
          "colorway": [
           "#636efa",
           "#EF553B",
           "#00cc96",
           "#ab63fa",
           "#FFA15A",
           "#19d3f3",
           "#FF6692",
           "#B6E880",
           "#FF97FF",
           "#FECB52"
          ],
          "font": {
           "color": "#2a3f5f"
          },
          "geo": {
           "bgcolor": "white",
           "lakecolor": "white",
           "landcolor": "#E5ECF6",
           "showlakes": true,
           "showland": true,
           "subunitcolor": "white"
          },
          "hoverlabel": {
           "align": "left"
          },
          "hovermode": "closest",
          "mapbox": {
           "style": "light"
          },
          "paper_bgcolor": "white",
          "plot_bgcolor": "#E5ECF6",
          "polar": {
           "angularaxis": {
            "gridcolor": "white",
            "linecolor": "white",
            "ticks": ""
           },
           "bgcolor": "#E5ECF6",
           "radialaxis": {
            "gridcolor": "white",
            "linecolor": "white",
            "ticks": ""
           }
          },
          "scene": {
           "xaxis": {
            "backgroundcolor": "#E5ECF6",
            "gridcolor": "white",
            "gridwidth": 2,
            "linecolor": "white",
            "showbackground": true,
            "ticks": "",
            "zerolinecolor": "white"
           },
           "yaxis": {
            "backgroundcolor": "#E5ECF6",
            "gridcolor": "white",
            "gridwidth": 2,
            "linecolor": "white",
            "showbackground": true,
            "ticks": "",
            "zerolinecolor": "white"
           },
           "zaxis": {
            "backgroundcolor": "#E5ECF6",
            "gridcolor": "white",
            "gridwidth": 2,
            "linecolor": "white",
            "showbackground": true,
            "ticks": "",
            "zerolinecolor": "white"
           }
          },
          "shapedefaults": {
           "line": {
            "color": "#2a3f5f"
           }
          },
          "ternary": {
           "aaxis": {
            "gridcolor": "white",
            "linecolor": "white",
            "ticks": ""
           },
           "baxis": {
            "gridcolor": "white",
            "linecolor": "white",
            "ticks": ""
           },
           "bgcolor": "#E5ECF6",
           "caxis": {
            "gridcolor": "white",
            "linecolor": "white",
            "ticks": ""
           }
          },
          "title": {
           "x": 0.05
          },
          "xaxis": {
           "automargin": true,
           "gridcolor": "white",
           "linecolor": "white",
           "ticks": "",
           "title": {
            "standoff": 15
           },
           "zerolinecolor": "white",
           "zerolinewidth": 2
          },
          "yaxis": {
           "automargin": true,
           "gridcolor": "white",
           "linecolor": "white",
           "ticks": "",
           "title": {
            "standoff": 15
           },
           "zerolinecolor": "white",
           "zerolinewidth": 2
          }
         }
        },
        "title": {
         "text": "Types of publication involving leprosy research"
        },
        "width": 1000,
        "xaxis": {
         "anchor": "y",
         "domain": [
          0,
          1
         ],
         "title": {}
        },
        "yaxis": {
         "anchor": "x",
         "domain": [
          0,
          1
         ],
         "title": {
          "text": "Publication counts (%)"
         }
        }
       }
      }
     },
     "metadata": {},
     "output_type": "display_data"
    }
   ],
   "source": [
    "# publication types \n",
    "fig=px.bar(y=pub_counts,x=pub_counts.index,title='Types of publication involving leprosy research')\n",
    "fig.update_layout(autosize=False,\n",
    "                  height=600,\n",
    "                  width=1000,\n",
    "                  xaxis_title=None,\n",
    "                  yaxis_title=\"Publication counts (%)\")\n",
    "fig.show()"
   ]
  },
  {
   "cell_type": "code",
   "execution_count": 11,
   "metadata": {},
   "outputs": [
    {
     "data": {
      "text/html": [
       "<div>\n",
       "<style scoped>\n",
       "    .dataframe tbody tr th:only-of-type {\n",
       "        vertical-align: middle;\n",
       "    }\n",
       "\n",
       "    .dataframe tbody tr th {\n",
       "        vertical-align: top;\n",
       "    }\n",
       "\n",
       "    .dataframe thead th {\n",
       "        text-align: right;\n",
       "    }\n",
       "</style>\n",
       "<table border=\"1\" class=\"dataframe\">\n",
       "  <thead>\n",
       "    <tr style=\"text-align: right;\">\n",
       "      <th></th>\n",
       "      <th>title</th>\n",
       "      <th>abstract</th>\n",
       "      <th>journal</th>\n",
       "      <th>publication_type</th>\n",
       "      <th>language</th>\n",
       "    </tr>\n",
       "    <tr>\n",
       "      <th>publication_year</th>\n",
       "      <th></th>\n",
       "      <th></th>\n",
       "      <th></th>\n",
       "      <th></th>\n",
       "      <th></th>\n",
       "    </tr>\n",
       "  </thead>\n",
       "  <tbody>\n",
       "    <tr>\n",
       "      <th>1982.0</th>\n",
       "      <td>215</td>\n",
       "      <td>215</td>\n",
       "      <td>215</td>\n",
       "      <td>215</td>\n",
       "      <td>215</td>\n",
       "    </tr>\n",
       "    <tr>\n",
       "      <th>1986.0</th>\n",
       "      <td>201</td>\n",
       "      <td>201</td>\n",
       "      <td>201</td>\n",
       "      <td>201</td>\n",
       "      <td>201</td>\n",
       "    </tr>\n",
       "    <tr>\n",
       "      <th>1983.0</th>\n",
       "      <td>194</td>\n",
       "      <td>194</td>\n",
       "      <td>194</td>\n",
       "      <td>194</td>\n",
       "      <td>194</td>\n",
       "    </tr>\n",
       "    <tr>\n",
       "      <th>1987.0</th>\n",
       "      <td>190</td>\n",
       "      <td>190</td>\n",
       "      <td>190</td>\n",
       "      <td>190</td>\n",
       "      <td>190</td>\n",
       "    </tr>\n",
       "    <tr>\n",
       "      <th>1985.0</th>\n",
       "      <td>179</td>\n",
       "      <td>179</td>\n",
       "      <td>179</td>\n",
       "      <td>179</td>\n",
       "      <td>179</td>\n",
       "    </tr>\n",
       "    <tr>\n",
       "      <th>...</th>\n",
       "      <td>...</td>\n",
       "      <td>...</td>\n",
       "      <td>...</td>\n",
       "      <td>...</td>\n",
       "      <td>...</td>\n",
       "    </tr>\n",
       "    <tr>\n",
       "      <th>1949.0</th>\n",
       "      <td>39</td>\n",
       "      <td>39</td>\n",
       "      <td>39</td>\n",
       "      <td>39</td>\n",
       "      <td>39</td>\n",
       "    </tr>\n",
       "    <tr>\n",
       "      <th>2024.0</th>\n",
       "      <td>19</td>\n",
       "      <td>19</td>\n",
       "      <td>19</td>\n",
       "      <td>19</td>\n",
       "      <td>19</td>\n",
       "    </tr>\n",
       "    <tr>\n",
       "      <th>1963.0</th>\n",
       "      <td>15</td>\n",
       "      <td>15</td>\n",
       "      <td>15</td>\n",
       "      <td>15</td>\n",
       "      <td>15</td>\n",
       "    </tr>\n",
       "    <tr>\n",
       "      <th>1950.0</th>\n",
       "      <td>13</td>\n",
       "      <td>13</td>\n",
       "      <td>13</td>\n",
       "      <td>13</td>\n",
       "      <td>13</td>\n",
       "    </tr>\n",
       "    <tr>\n",
       "      <th>1964.0</th>\n",
       "      <td>12</td>\n",
       "      <td>12</td>\n",
       "      <td>12</td>\n",
       "      <td>12</td>\n",
       "      <td>12</td>\n",
       "    </tr>\n",
       "  </tbody>\n",
       "</table>\n",
       "<p>80 rows × 5 columns</p>\n",
       "</div>"
      ],
      "text/plain": [
       "                  title  abstract  journal  publication_type  language\n",
       "publication_year                                                      \n",
       "1982.0              215       215      215               215       215\n",
       "1986.0              201       201      201               201       201\n",
       "1983.0              194       194      194               194       194\n",
       "1987.0              190       190      190               190       190\n",
       "1985.0              179       179      179               179       179\n",
       "...                 ...       ...      ...               ...       ...\n",
       "1949.0               39        39       39                39        39\n",
       "2024.0               19        19       19                19        19\n",
       "1963.0               15        15       15                15        15\n",
       "1950.0               13        13       13                13        13\n",
       "1964.0               12        12       12                12        12\n",
       "\n",
       "[80 rows x 5 columns]"
      ]
     },
     "execution_count": 11,
     "metadata": {},
     "output_type": "execute_result"
    }
   ],
   "source": [
    "data_counts=df.groupby(['publication_year']).count()\n",
    "data_counts.sort_values(by=\"title\",ascending=False)"
   ]
  },
  {
   "cell_type": "code",
   "execution_count": 12,
   "metadata": {},
   "outputs": [
    {
     "data": {
      "application/vnd.plotly.v1+json": {
       "config": {
        "plotlyServerURL": "https://plot.ly"
       },
       "data": [
        {
         "hovertemplate": "variable=title<br>publication_year=%{x}<br>value=%{y}<extra></extra>",
         "legendgroup": "title",
         "line": {
          "color": "#636efa",
          "dash": "solid"
         },
         "marker": {
          "symbol": "circle"
         },
         "mode": "markers+lines",
         "name": "title",
         "orientation": "v",
         "showlegend": true,
         "type": "scatter",
         "x": [
          1945,
          1946,
          1947,
          1948,
          1949,
          1950,
          1951,
          1952,
          1953,
          1954,
          1955,
          1956,
          1957,
          1958,
          1959,
          1960,
          1961,
          1962,
          1963,
          1964,
          1965,
          1966,
          1967,
          1968,
          1969,
          1970,
          1971,
          1972,
          1973,
          1974,
          1975,
          1976,
          1977,
          1978,
          1979,
          1980,
          1981,
          1982,
          1983,
          1984,
          1985,
          1986,
          1987,
          1988,
          1989,
          1990,
          1991,
          1992,
          1993,
          1994,
          1995,
          1996,
          1997,
          1998,
          1999,
          2000,
          2001,
          2002,
          2003,
          2004,
          2005,
          2006,
          2007,
          2008,
          2009,
          2010,
          2011,
          2012,
          2013,
          2014,
          2015,
          2016,
          2017,
          2018,
          2019,
          2020,
          2021,
          2022,
          2023,
          2024
         ],
         "xaxis": "x",
         "y": [
          45,
          62,
          57,
          149,
          39,
          13,
          105,
          172,
          154,
          113,
          139,
          136,
          136,
          110,
          125,
          132,
          131,
          64,
          15,
          12,
          92,
          119,
          119,
          140,
          134,
          119,
          123,
          113,
          144,
          128,
          121,
          172,
          118,
          124,
          171,
          166,
          173,
          215,
          194,
          166,
          179,
          201,
          190,
          146,
          152,
          142,
          145,
          168,
          129,
          144,
          126,
          121,
          130,
          138,
          141,
          127,
          109,
          104,
          134,
          152,
          125,
          113,
          111,
          141,
          126,
          117,
          142,
          117,
          126,
          109,
          150,
          125,
          79,
          97,
          90,
          138,
          126,
          123,
          113,
          19
         ],
         "yaxis": "y"
        }
       ],
       "layout": {
        "legend": {
         "title": {
          "text": "variable"
         },
         "tracegroupgap": 0
        },
        "margin": {
         "t": 60
        },
        "plot_bgcolor": "white",
        "showlegend": false,
        "template": {
         "data": {
          "bar": [
           {
            "error_x": {
             "color": "#2a3f5f"
            },
            "error_y": {
             "color": "#2a3f5f"
            },
            "marker": {
             "line": {
              "color": "#E5ECF6",
              "width": 0.5
             },
             "pattern": {
              "fillmode": "overlay",
              "size": 10,
              "solidity": 0.2
             }
            },
            "type": "bar"
           }
          ],
          "barpolar": [
           {
            "marker": {
             "line": {
              "color": "#E5ECF6",
              "width": 0.5
             },
             "pattern": {
              "fillmode": "overlay",
              "size": 10,
              "solidity": 0.2
             }
            },
            "type": "barpolar"
           }
          ],
          "carpet": [
           {
            "aaxis": {
             "endlinecolor": "#2a3f5f",
             "gridcolor": "white",
             "linecolor": "white",
             "minorgridcolor": "white",
             "startlinecolor": "#2a3f5f"
            },
            "baxis": {
             "endlinecolor": "#2a3f5f",
             "gridcolor": "white",
             "linecolor": "white",
             "minorgridcolor": "white",
             "startlinecolor": "#2a3f5f"
            },
            "type": "carpet"
           }
          ],
          "choropleth": [
           {
            "colorbar": {
             "outlinewidth": 0,
             "ticks": ""
            },
            "type": "choropleth"
           }
          ],
          "contour": [
           {
            "colorbar": {
             "outlinewidth": 0,
             "ticks": ""
            },
            "colorscale": [
             [
              0,
              "#0d0887"
             ],
             [
              0.1111111111111111,
              "#46039f"
             ],
             [
              0.2222222222222222,
              "#7201a8"
             ],
             [
              0.3333333333333333,
              "#9c179e"
             ],
             [
              0.4444444444444444,
              "#bd3786"
             ],
             [
              0.5555555555555556,
              "#d8576b"
             ],
             [
              0.6666666666666666,
              "#ed7953"
             ],
             [
              0.7777777777777778,
              "#fb9f3a"
             ],
             [
              0.8888888888888888,
              "#fdca26"
             ],
             [
              1,
              "#f0f921"
             ]
            ],
            "type": "contour"
           }
          ],
          "contourcarpet": [
           {
            "colorbar": {
             "outlinewidth": 0,
             "ticks": ""
            },
            "type": "contourcarpet"
           }
          ],
          "heatmap": [
           {
            "colorbar": {
             "outlinewidth": 0,
             "ticks": ""
            },
            "colorscale": [
             [
              0,
              "#0d0887"
             ],
             [
              0.1111111111111111,
              "#46039f"
             ],
             [
              0.2222222222222222,
              "#7201a8"
             ],
             [
              0.3333333333333333,
              "#9c179e"
             ],
             [
              0.4444444444444444,
              "#bd3786"
             ],
             [
              0.5555555555555556,
              "#d8576b"
             ],
             [
              0.6666666666666666,
              "#ed7953"
             ],
             [
              0.7777777777777778,
              "#fb9f3a"
             ],
             [
              0.8888888888888888,
              "#fdca26"
             ],
             [
              1,
              "#f0f921"
             ]
            ],
            "type": "heatmap"
           }
          ],
          "heatmapgl": [
           {
            "colorbar": {
             "outlinewidth": 0,
             "ticks": ""
            },
            "colorscale": [
             [
              0,
              "#0d0887"
             ],
             [
              0.1111111111111111,
              "#46039f"
             ],
             [
              0.2222222222222222,
              "#7201a8"
             ],
             [
              0.3333333333333333,
              "#9c179e"
             ],
             [
              0.4444444444444444,
              "#bd3786"
             ],
             [
              0.5555555555555556,
              "#d8576b"
             ],
             [
              0.6666666666666666,
              "#ed7953"
             ],
             [
              0.7777777777777778,
              "#fb9f3a"
             ],
             [
              0.8888888888888888,
              "#fdca26"
             ],
             [
              1,
              "#f0f921"
             ]
            ],
            "type": "heatmapgl"
           }
          ],
          "histogram": [
           {
            "marker": {
             "pattern": {
              "fillmode": "overlay",
              "size": 10,
              "solidity": 0.2
             }
            },
            "type": "histogram"
           }
          ],
          "histogram2d": [
           {
            "colorbar": {
             "outlinewidth": 0,
             "ticks": ""
            },
            "colorscale": [
             [
              0,
              "#0d0887"
             ],
             [
              0.1111111111111111,
              "#46039f"
             ],
             [
              0.2222222222222222,
              "#7201a8"
             ],
             [
              0.3333333333333333,
              "#9c179e"
             ],
             [
              0.4444444444444444,
              "#bd3786"
             ],
             [
              0.5555555555555556,
              "#d8576b"
             ],
             [
              0.6666666666666666,
              "#ed7953"
             ],
             [
              0.7777777777777778,
              "#fb9f3a"
             ],
             [
              0.8888888888888888,
              "#fdca26"
             ],
             [
              1,
              "#f0f921"
             ]
            ],
            "type": "histogram2d"
           }
          ],
          "histogram2dcontour": [
           {
            "colorbar": {
             "outlinewidth": 0,
             "ticks": ""
            },
            "colorscale": [
             [
              0,
              "#0d0887"
             ],
             [
              0.1111111111111111,
              "#46039f"
             ],
             [
              0.2222222222222222,
              "#7201a8"
             ],
             [
              0.3333333333333333,
              "#9c179e"
             ],
             [
              0.4444444444444444,
              "#bd3786"
             ],
             [
              0.5555555555555556,
              "#d8576b"
             ],
             [
              0.6666666666666666,
              "#ed7953"
             ],
             [
              0.7777777777777778,
              "#fb9f3a"
             ],
             [
              0.8888888888888888,
              "#fdca26"
             ],
             [
              1,
              "#f0f921"
             ]
            ],
            "type": "histogram2dcontour"
           }
          ],
          "mesh3d": [
           {
            "colorbar": {
             "outlinewidth": 0,
             "ticks": ""
            },
            "type": "mesh3d"
           }
          ],
          "parcoords": [
           {
            "line": {
             "colorbar": {
              "outlinewidth": 0,
              "ticks": ""
             }
            },
            "type": "parcoords"
           }
          ],
          "pie": [
           {
            "automargin": true,
            "type": "pie"
           }
          ],
          "scatter": [
           {
            "fillpattern": {
             "fillmode": "overlay",
             "size": 10,
             "solidity": 0.2
            },
            "type": "scatter"
           }
          ],
          "scatter3d": [
           {
            "line": {
             "colorbar": {
              "outlinewidth": 0,
              "ticks": ""
             }
            },
            "marker": {
             "colorbar": {
              "outlinewidth": 0,
              "ticks": ""
             }
            },
            "type": "scatter3d"
           }
          ],
          "scattercarpet": [
           {
            "marker": {
             "colorbar": {
              "outlinewidth": 0,
              "ticks": ""
             }
            },
            "type": "scattercarpet"
           }
          ],
          "scattergeo": [
           {
            "marker": {
             "colorbar": {
              "outlinewidth": 0,
              "ticks": ""
             }
            },
            "type": "scattergeo"
           }
          ],
          "scattergl": [
           {
            "marker": {
             "colorbar": {
              "outlinewidth": 0,
              "ticks": ""
             }
            },
            "type": "scattergl"
           }
          ],
          "scattermapbox": [
           {
            "marker": {
             "colorbar": {
              "outlinewidth": 0,
              "ticks": ""
             }
            },
            "type": "scattermapbox"
           }
          ],
          "scatterpolar": [
           {
            "marker": {
             "colorbar": {
              "outlinewidth": 0,
              "ticks": ""
             }
            },
            "type": "scatterpolar"
           }
          ],
          "scatterpolargl": [
           {
            "marker": {
             "colorbar": {
              "outlinewidth": 0,
              "ticks": ""
             }
            },
            "type": "scatterpolargl"
           }
          ],
          "scatterternary": [
           {
            "marker": {
             "colorbar": {
              "outlinewidth": 0,
              "ticks": ""
             }
            },
            "type": "scatterternary"
           }
          ],
          "surface": [
           {
            "colorbar": {
             "outlinewidth": 0,
             "ticks": ""
            },
            "colorscale": [
             [
              0,
              "#0d0887"
             ],
             [
              0.1111111111111111,
              "#46039f"
             ],
             [
              0.2222222222222222,
              "#7201a8"
             ],
             [
              0.3333333333333333,
              "#9c179e"
             ],
             [
              0.4444444444444444,
              "#bd3786"
             ],
             [
              0.5555555555555556,
              "#d8576b"
             ],
             [
              0.6666666666666666,
              "#ed7953"
             ],
             [
              0.7777777777777778,
              "#fb9f3a"
             ],
             [
              0.8888888888888888,
              "#fdca26"
             ],
             [
              1,
              "#f0f921"
             ]
            ],
            "type": "surface"
           }
          ],
          "table": [
           {
            "cells": {
             "fill": {
              "color": "#EBF0F8"
             },
             "line": {
              "color": "white"
             }
            },
            "header": {
             "fill": {
              "color": "#C8D4E3"
             },
             "line": {
              "color": "white"
             }
            },
            "type": "table"
           }
          ]
         },
         "layout": {
          "annotationdefaults": {
           "arrowcolor": "#2a3f5f",
           "arrowhead": 0,
           "arrowwidth": 1
          },
          "autotypenumbers": "strict",
          "coloraxis": {
           "colorbar": {
            "outlinewidth": 0,
            "ticks": ""
           }
          },
          "colorscale": {
           "diverging": [
            [
             0,
             "#8e0152"
            ],
            [
             0.1,
             "#c51b7d"
            ],
            [
             0.2,
             "#de77ae"
            ],
            [
             0.3,
             "#f1b6da"
            ],
            [
             0.4,
             "#fde0ef"
            ],
            [
             0.5,
             "#f7f7f7"
            ],
            [
             0.6,
             "#e6f5d0"
            ],
            [
             0.7,
             "#b8e186"
            ],
            [
             0.8,
             "#7fbc41"
            ],
            [
             0.9,
             "#4d9221"
            ],
            [
             1,
             "#276419"
            ]
           ],
           "sequential": [
            [
             0,
             "#0d0887"
            ],
            [
             0.1111111111111111,
             "#46039f"
            ],
            [
             0.2222222222222222,
             "#7201a8"
            ],
            [
             0.3333333333333333,
             "#9c179e"
            ],
            [
             0.4444444444444444,
             "#bd3786"
            ],
            [
             0.5555555555555556,
             "#d8576b"
            ],
            [
             0.6666666666666666,
             "#ed7953"
            ],
            [
             0.7777777777777778,
             "#fb9f3a"
            ],
            [
             0.8888888888888888,
             "#fdca26"
            ],
            [
             1,
             "#f0f921"
            ]
           ],
           "sequentialminus": [
            [
             0,
             "#0d0887"
            ],
            [
             0.1111111111111111,
             "#46039f"
            ],
            [
             0.2222222222222222,
             "#7201a8"
            ],
            [
             0.3333333333333333,
             "#9c179e"
            ],
            [
             0.4444444444444444,
             "#bd3786"
            ],
            [
             0.5555555555555556,
             "#d8576b"
            ],
            [
             0.6666666666666666,
             "#ed7953"
            ],
            [
             0.7777777777777778,
             "#fb9f3a"
            ],
            [
             0.8888888888888888,
             "#fdca26"
            ],
            [
             1,
             "#f0f921"
            ]
           ]
          },
          "colorway": [
           "#636efa",
           "#EF553B",
           "#00cc96",
           "#ab63fa",
           "#FFA15A",
           "#19d3f3",
           "#FF6692",
           "#B6E880",
           "#FF97FF",
           "#FECB52"
          ],
          "font": {
           "color": "#2a3f5f"
          },
          "geo": {
           "bgcolor": "white",
           "lakecolor": "white",
           "landcolor": "#E5ECF6",
           "showlakes": true,
           "showland": true,
           "subunitcolor": "white"
          },
          "hoverlabel": {
           "align": "left"
          },
          "hovermode": "closest",
          "mapbox": {
           "style": "light"
          },
          "paper_bgcolor": "white",
          "plot_bgcolor": "#E5ECF6",
          "polar": {
           "angularaxis": {
            "gridcolor": "white",
            "linecolor": "white",
            "ticks": ""
           },
           "bgcolor": "#E5ECF6",
           "radialaxis": {
            "gridcolor": "white",
            "linecolor": "white",
            "ticks": ""
           }
          },
          "scene": {
           "xaxis": {
            "backgroundcolor": "#E5ECF6",
            "gridcolor": "white",
            "gridwidth": 2,
            "linecolor": "white",
            "showbackground": true,
            "ticks": "",
            "zerolinecolor": "white"
           },
           "yaxis": {
            "backgroundcolor": "#E5ECF6",
            "gridcolor": "white",
            "gridwidth": 2,
            "linecolor": "white",
            "showbackground": true,
            "ticks": "",
            "zerolinecolor": "white"
           },
           "zaxis": {
            "backgroundcolor": "#E5ECF6",
            "gridcolor": "white",
            "gridwidth": 2,
            "linecolor": "white",
            "showbackground": true,
            "ticks": "",
            "zerolinecolor": "white"
           }
          },
          "shapedefaults": {
           "line": {
            "color": "#2a3f5f"
           }
          },
          "ternary": {
           "aaxis": {
            "gridcolor": "white",
            "linecolor": "white",
            "ticks": ""
           },
           "baxis": {
            "gridcolor": "white",
            "linecolor": "white",
            "ticks": ""
           },
           "bgcolor": "#E5ECF6",
           "caxis": {
            "gridcolor": "white",
            "linecolor": "white",
            "ticks": ""
           }
          },
          "title": {
           "x": 0.05
          },
          "xaxis": {
           "automargin": true,
           "gridcolor": "white",
           "linecolor": "white",
           "ticks": "",
           "title": {
            "standoff": 15
           },
           "zerolinecolor": "white",
           "zerolinewidth": 2
          },
          "yaxis": {
           "automargin": true,
           "gridcolor": "white",
           "linecolor": "white",
           "ticks": "",
           "title": {
            "standoff": 15
           },
           "zerolinecolor": "white",
           "zerolinewidth": 2
          }
         }
        },
        "title": {
         "text": "Number of publications by year"
        },
        "xaxis": {
         "anchor": "y",
         "domain": [
          0,
          1
         ],
         "showline": true,
         "title": {
          "text": "Year"
         }
        },
        "yaxis": {
         "anchor": "x",
         "domain": [
          0,
          1
         ],
         "title": {
          "text": "Publications"
         }
        }
       }
      }
     },
     "metadata": {},
     "output_type": "display_data"
    }
   ],
   "source": [
    "data_counts=df.groupby(['publication_year'])['title'].count()\n",
    "fig = px.line(data_counts,markers=True).update_layout(xaxis_title=\"Year\",yaxis_title=\"Publications\",title=\"Number of publications by year\",\n",
    "                                         showlegend=False)\n",
    "\n",
    "fig.update_layout(plot_bgcolor='white',xaxis=dict(showline=True))"
   ]
  },
  {
   "cell_type": "code",
   "execution_count": 13,
   "metadata": {},
   "outputs": [
    {
     "data": {
      "application/vnd.plotly.v1+json": {
       "config": {
        "plotlyServerURL": "https://plot.ly"
       },
       "data": [
        {
         "alignmentgroup": "True",
         "hovertemplate": "Publication type=Journal Article<br>Year=%{x}<br>No.of publications per year=%{y}<extra></extra>",
         "legendgroup": "Journal Article",
         "marker": {
          "color": "#636efa",
          "pattern": {
           "shape": ""
          }
         },
         "name": "Journal Article",
         "offsetgroup": "Journal Article",
         "orientation": "v",
         "showlegend": true,
         "textposition": "auto",
         "type": "bar",
         "x": [
          1945,
          1946,
          1947,
          1948,
          1949,
          1950,
          1951,
          1952,
          1953,
          1954,
          1955,
          1956,
          1957,
          1958,
          1959,
          1960,
          1961,
          1962,
          1963,
          1964,
          1965,
          1966,
          1967,
          1968,
          1969,
          1970,
          1971,
          1972,
          1973,
          1974,
          1975,
          1976,
          1977,
          1978,
          1979,
          1980,
          1981,
          1982,
          1983,
          1984,
          1985,
          1986,
          1987,
          1988,
          1989,
          1990,
          1991,
          1992,
          1993,
          1994,
          1995,
          1996,
          1997,
          1998,
          1999,
          2000,
          2001,
          2002,
          2003,
          2004,
          2005,
          2006,
          2007,
          2008,
          2009,
          2010,
          2011,
          2012,
          2013,
          2014,
          2015,
          2016,
          2017,
          2018,
          2019,
          2020,
          2021,
          2022,
          2023,
          2024
         ],
         "xaxis": "x",
         "y": [
          45,
          62,
          57,
          149,
          39,
          13,
          105,
          172,
          152,
          113,
          139,
          135,
          136,
          108,
          121,
          130,
          129,
          62,
          15,
          12,
          80,
          100,
          106,
          121,
          115,
          102,
          103,
          92,
          96,
          80,
          75,
          116,
          67,
          68,
          98,
          102,
          117,
          133,
          107,
          99,
          101,
          126,
          110,
          82,
          94,
          80,
          80,
          82,
          61,
          75,
          57,
          67,
          61,
          65,
          74,
          73,
          52,
          40,
          58,
          77,
          49,
          66,
          49,
          66,
          50,
          56,
          77,
          60,
          77,
          57,
          79,
          73,
          50,
          60,
          51,
          86,
          93,
          77,
          66,
          11
         ],
         "yaxis": "y"
        },
        {
         "alignmentgroup": "True",
         "hovertemplate": "Publication type=Biography<br>Year=%{x}<br>No.of publications per year=%{y}<extra></extra>",
         "legendgroup": "Biography",
         "marker": {
          "color": "#EF553B",
          "pattern": {
           "shape": ""
          }
         },
         "name": "Biography",
         "offsetgroup": "Biography",
         "orientation": "v",
         "showlegend": true,
         "textposition": "auto",
         "type": "bar",
         "x": [
          1953,
          1959,
          1965,
          1966,
          1967,
          1968,
          1969,
          1970,
          1971,
          1972,
          1973,
          1974,
          1975,
          1976,
          1977,
          1978,
          1979,
          1980,
          1981,
          1982,
          1983,
          1984,
          1985,
          1986,
          1987,
          1988,
          1989,
          1990,
          1991,
          1992,
          1993,
          1994,
          1995,
          1996,
          1997,
          1998,
          1999,
          2000,
          2002,
          2003,
          2004,
          2005,
          2006,
          2007,
          2008,
          2009,
          2010,
          2012,
          2013,
          2014,
          2015,
          2016,
          2017,
          2018,
          2019
         ],
         "xaxis": "x",
         "y": [
          2,
          1,
          1,
          1,
          3,
          8,
          4,
          1,
          5,
          4,
          11,
          8,
          8,
          3,
          2,
          11,
          4,
          5,
          3,
          5,
          1,
          2,
          1,
          8,
          3,
          2,
          5,
          1,
          7,
          8,
          6,
          1,
          1,
          4,
          4,
          2,
          4,
          3,
          5,
          6,
          2,
          2,
          2,
          2,
          1,
          3,
          2,
          4,
          2,
          8,
          5,
          3,
          1,
          3,
          1
         ],
         "yaxis": "y"
        },
        {
         "alignmentgroup": "True",
         "hovertemplate": "Publication type=Case Reports<br>Year=%{x}<br>No.of publications per year=%{y}<extra></extra>",
         "legendgroup": "Case Reports",
         "marker": {
          "color": "#00cc96",
          "pattern": {
           "shape": ""
          }
         },
         "name": "Case Reports",
         "offsetgroup": "Case Reports",
         "orientation": "v",
         "showlegend": true,
         "textposition": "auto",
         "type": "bar",
         "x": [
          1956,
          1958,
          1959,
          1960,
          1961,
          1962,
          1965,
          1966,
          1967,
          1968,
          1969,
          1970,
          1971,
          1972,
          1973,
          1974,
          1975,
          1976,
          1977,
          1978,
          1979,
          1980,
          1981,
          1982,
          1983,
          1984,
          1985,
          1986,
          1987,
          1988,
          1989,
          1990,
          1991,
          1992,
          1993,
          1994,
          1995,
          1996,
          1997,
          1998,
          1999,
          2000,
          2001,
          2002,
          2003,
          2004,
          2005,
          2006,
          2007,
          2008,
          2009,
          2010,
          2011,
          2012,
          2013,
          2014,
          2015,
          2016,
          2017,
          2018,
          2019,
          2020,
          2021,
          2022,
          2023,
          2024
         ],
         "xaxis": "x",
         "y": [
          1,
          2,
          3,
          2,
          2,
          2,
          7,
          8,
          1,
          1,
          4,
          1,
          1,
          3,
          3,
          2,
          6,
          20,
          12,
          15,
          20,
          24,
          11,
          17,
          22,
          22,
          24,
          17,
          24,
          12,
          12,
          15,
          12,
          10,
          10,
          10,
          9,
          8,
          8,
          12,
          11,
          7,
          12,
          11,
          13,
          7,
          9,
          11,
          15,
          10,
          20,
          21,
          15,
          12,
          22,
          13,
          24,
          19,
          10,
          15,
          23,
          30,
          20,
          23,
          18,
          3
         ],
         "yaxis": "y"
        },
        {
         "alignmentgroup": "True",
         "hovertemplate": "Publication type=Clinical Trial<br>Year=%{x}<br>No.of publications per year=%{y}<extra></extra>",
         "legendgroup": "Clinical Trial",
         "marker": {
          "color": "#ab63fa",
          "pattern": {
           "shape": ""
          }
         },
         "name": "Clinical Trial",
         "offsetgroup": "Clinical Trial",
         "orientation": "v",
         "showlegend": true,
         "textposition": "auto",
         "type": "bar",
         "x": [
          1965,
          1966,
          1967,
          1968,
          1969,
          1971,
          1972,
          1973,
          1974,
          1975,
          1976,
          1978,
          1979,
          1980,
          1981,
          1982,
          1983,
          1984,
          1985,
          1986,
          1987,
          1989,
          1990,
          1991,
          1992,
          1993,
          1994,
          1995,
          1996,
          1997,
          1998,
          1999,
          2000,
          2002,
          2003,
          2004,
          2005,
          2010,
          2011,
          2014,
          2015,
          2016,
          2021
         ],
         "xaxis": "x",
         "y": [
          1,
          1,
          2,
          1,
          3,
          2,
          1,
          1,
          2,
          9,
          3,
          3,
          5,
          2,
          3,
          6,
          3,
          2,
          4,
          4,
          3,
          2,
          1,
          2,
          2,
          4,
          3,
          4,
          1,
          6,
          3,
          5,
          3,
          2,
          1,
          5,
          1,
          1,
          1,
          1,
          1,
          1,
          1
         ],
         "yaxis": "y"
        },
        {
         "alignmentgroup": "True",
         "hovertemplate": "Publication type=Historical Article<br>Year=%{x}<br>No.of publications per year=%{y}<extra></extra>",
         "legendgroup": "Historical Article",
         "marker": {
          "color": "#FFA15A",
          "pattern": {
           "shape": ""
          }
         },
         "name": "Historical Article",
         "offsetgroup": "Historical Article",
         "orientation": "v",
         "showlegend": true,
         "textposition": "auto",
         "type": "bar",
         "x": [
          1965,
          1966,
          1967,
          1968,
          1969,
          1970,
          1971,
          1972,
          1973,
          1974,
          1975,
          1976,
          1977,
          1978,
          1979,
          1980,
          1981,
          1982,
          1983,
          1984,
          1985,
          1986,
          1987,
          1988,
          1989,
          1990,
          1991,
          1992,
          1993,
          1994,
          1995,
          1996,
          1997,
          1998,
          1999,
          2000,
          2001,
          2002,
          2003,
          2004,
          2005,
          2006,
          2007,
          2008,
          2009,
          2010,
          2011,
          2012,
          2013,
          2014,
          2015,
          2016,
          2017,
          2018,
          2019,
          2020,
          2021,
          2022,
          2023
         ],
         "xaxis": "x",
         "y": [
          3,
          7,
          6,
          5,
          6,
          14,
          10,
          11,
          26,
          11,
          7,
          9,
          6,
          1,
          9,
          9,
          5,
          8,
          6,
          12,
          9,
          13,
          8,
          13,
          9,
          5,
          5,
          4,
          4,
          8,
          8,
          2,
          6,
          2,
          5,
          4,
          3,
          7,
          10,
          7,
          6,
          3,
          5,
          5,
          6,
          7,
          7,
          5,
          7,
          11,
          10,
          13,
          8,
          6,
          3,
          5,
          3,
          1,
          1
         ],
         "yaxis": "y"
        },
        {
         "alignmentgroup": "True",
         "hovertemplate": "Publication type=Comparative Study<br>Year=%{x}<br>No.of publications per year=%{y}<extra></extra>",
         "legendgroup": "Comparative Study",
         "marker": {
          "color": "#19d3f3",
          "pattern": {
           "shape": ""
          }
         },
         "name": "Comparative Study",
         "offsetgroup": "Comparative Study",
         "orientation": "v",
         "showlegend": true,
         "textposition": "auto",
         "type": "bar",
         "x": [
          1966,
          1968,
          1969,
          1970,
          1971,
          1972,
          1973,
          1974,
          1975,
          1976,
          1977,
          1978,
          1979,
          1980,
          1981,
          1982,
          1983,
          1984,
          1985,
          1986,
          1987,
          1988,
          1989,
          1990,
          1991,
          1992,
          1993,
          1994,
          1995,
          1996,
          1997,
          1998,
          1999,
          2000,
          2001,
          2002,
          2003,
          2004,
          2005,
          2006,
          2008,
          2009,
          2010,
          2011,
          2012,
          2013,
          2014,
          2015,
          2016,
          2017,
          2018,
          2019,
          2020,
          2023
         ],
         "xaxis": "x",
         "y": [
          1,
          1,
          2,
          1,
          2,
          2,
          2,
          13,
          7,
          5,
          6,
          5,
          5,
          3,
          3,
          8,
          17,
          10,
          12,
          2,
          6,
          6,
          5,
          6,
          8,
          5,
          5,
          6,
          7,
          5,
          7,
          6,
          8,
          8,
          8,
          2,
          7,
          13,
          12,
          6,
          4,
          12,
          6,
          5,
          3,
          2,
          2,
          3,
          2,
          1,
          1,
          3,
          2,
          1
         ],
         "yaxis": "y"
        },
        {
         "alignmentgroup": "True",
         "hovertemplate": "Publication type=Letter<br>Year=%{x}<br>No.of publications per year=%{y}<extra></extra>",
         "legendgroup": "Letter",
         "marker": {
          "color": "#FF6692",
          "pattern": {
           "shape": ""
          }
         },
         "name": "Letter",
         "offsetgroup": "Letter",
         "orientation": "v",
         "showlegend": true,
         "textposition": "auto",
         "type": "bar",
         "x": [
          1966,
          1976,
          1977,
          1978,
          1979,
          1980,
          1981,
          1982,
          1983,
          1984,
          1985,
          1986,
          1987,
          1988,
          1989,
          1990,
          1991,
          1992,
          1993,
          1994,
          1995,
          1996,
          1997,
          1998,
          1999,
          2000,
          2001,
          2002,
          2003,
          2004,
          2005,
          2006,
          2007,
          2008,
          2009,
          2010,
          2011,
          2012,
          2013,
          2014,
          2015,
          2016,
          2017,
          2018,
          2019,
          2020,
          2021,
          2022,
          2023,
          2024
         ],
         "xaxis": "x",
         "y": [
          1,
          3,
          11,
          5,
          11,
          7,
          11,
          13,
          10,
          8,
          8,
          11,
          15,
          14,
          12,
          6,
          9,
          16,
          6,
          7,
          11,
          9,
          10,
          5,
          13,
          7,
          10,
          8,
          7,
          9,
          7,
          3,
          16,
          9,
          6,
          3,
          6,
          10,
          1,
          8,
          9,
          7,
          4,
          7,
          8,
          10,
          7,
          11,
          11,
          2
         ],
         "yaxis": "y"
        },
        {
         "alignmentgroup": "True",
         "hovertemplate": "Publication type=Bibliography<br>Year=%{x}<br>No.of publications per year=%{y}<extra></extra>",
         "legendgroup": "Bibliography",
         "marker": {
          "color": "#B6E880",
          "pattern": {
           "shape": ""
          }
         },
         "name": "Bibliography",
         "offsetgroup": "Bibliography",
         "orientation": "v",
         "showlegend": true,
         "textposition": "auto",
         "type": "bar",
         "x": [
          1967,
          1968,
          1983,
          1985,
          1987,
          1992,
          1994
         ],
         "xaxis": "x",
         "y": [
          1,
          2,
          1,
          1,
          1,
          1,
          1
         ],
         "yaxis": "y"
        },
        {
         "alignmentgroup": "True",
         "hovertemplate": "Publication type=Congress<br>Year=%{x}<br>No.of publications per year=%{y}<extra></extra>",
         "legendgroup": "Congress",
         "marker": {
          "color": "#FF97FF",
          "pattern": {
           "shape": ""
          }
         },
         "name": "Congress",
         "offsetgroup": "Congress",
         "orientation": "v",
         "showlegend": true,
         "textposition": "auto",
         "type": "bar",
         "x": [
          1968,
          1973,
          1974,
          1976,
          1978,
          1979,
          1981,
          1991,
          1992,
          1993,
          1994,
          1995,
          1996,
          1997,
          1998,
          1999,
          2000,
          2001,
          2002,
          2003,
          2004,
          2005,
          2006,
          2007,
          2008,
          2009,
          2010,
          2011,
          2015,
          2016
         ],
         "xaxis": "x",
         "y": [
          1,
          1,
          2,
          2,
          3,
          4,
          1,
          6,
          1,
          3,
          3,
          1,
          2,
          3,
          16,
          9,
          2,
          2,
          5,
          1,
          2,
          2,
          2,
          2,
          4,
          3,
          1,
          2,
          2,
          1
         ],
         "yaxis": "y"
        },
        {
         "alignmentgroup": "True",
         "hovertemplate": "Publication type=Autobiography<br>Year=%{x}<br>No.of publications per year=%{y}<extra></extra>",
         "legendgroup": "Autobiography",
         "marker": {
          "color": "#FECB52",
          "pattern": {
           "shape": ""
          }
         },
         "name": "Autobiography",
         "offsetgroup": "Autobiography",
         "orientation": "v",
         "showlegend": true,
         "textposition": "auto",
         "type": "bar",
         "x": [
          1973
         ],
         "xaxis": "x",
         "y": [
          1
         ],
         "yaxis": "y"
        },
        {
         "alignmentgroup": "True",
         "hovertemplate": "Publication type=Directory<br>Year=%{x}<br>No.of publications per year=%{y}<extra></extra>",
         "legendgroup": "Directory",
         "marker": {
          "color": "#636efa",
          "pattern": {
           "shape": ""
          }
         },
         "name": "Directory",
         "offsetgroup": "Directory",
         "orientation": "v",
         "showlegend": true,
         "textposition": "auto",
         "type": "bar",
         "x": [
          1973
         ],
         "xaxis": "x",
         "y": [
          1
         ],
         "yaxis": "y"
        },
        {
         "alignmentgroup": "True",
         "hovertemplate": "Publication type=English Abstract<br>Year=%{x}<br>No.of publications per year=%{y}<extra></extra>",
         "legendgroup": "English Abstract",
         "marker": {
          "color": "#EF553B",
          "pattern": {
           "shape": ""
          }
         },
         "name": "English Abstract",
         "offsetgroup": "English Abstract",
         "orientation": "v",
         "showlegend": true,
         "textposition": "auto",
         "type": "bar",
         "x": [
          1973,
          1974,
          1975,
          1976,
          1977,
          1978,
          1979,
          1980,
          1981,
          1982,
          1983,
          1984,
          1985,
          1986,
          1987,
          1988,
          1989,
          1990,
          1991,
          1992,
          1993,
          1994,
          1995,
          1996,
          1997,
          1998,
          1999,
          2000,
          2001,
          2002,
          2003,
          2004,
          2005,
          2006,
          2007,
          2008,
          2009,
          2010,
          2011,
          2012,
          2013,
          2014,
          2015,
          2016,
          2022,
          2023
         ],
         "xaxis": "x",
         "y": [
          2,
          10,
          9,
          8,
          6,
          8,
          11,
          9,
          10,
          20,
          23,
          8,
          19,
          16,
          19,
          14,
          8,
          9,
          4,
          8,
          10,
          10,
          11,
          9,
          6,
          6,
          5,
          3,
          4,
          11,
          13,
          8,
          10,
          10,
          6,
          22,
          13,
          11,
          15,
          8,
          8,
          2,
          6,
          1,
          1,
          2
         ],
         "yaxis": "y"
        },
        {
         "alignmentgroup": "True",
         "hovertemplate": "Publication type=Editorial<br>Year=%{x}<br>No.of publications per year=%{y}<extra></extra>",
         "legendgroup": "Editorial",
         "marker": {
          "color": "#00cc96",
          "pattern": {
           "shape": ""
          }
         },
         "name": "Editorial",
         "offsetgroup": "Editorial",
         "orientation": "v",
         "showlegend": true,
         "textposition": "auto",
         "type": "bar",
         "x": [
          1976,
          1977,
          1978,
          1979,
          1980,
          1981,
          1982,
          1983,
          1986,
          1987,
          1988,
          1989,
          1990,
          1991,
          1992,
          1993,
          1994,
          1995,
          1996,
          1997,
          1998,
          1999,
          2000,
          2001,
          2002,
          2003,
          2004,
          2005,
          2006,
          2007,
          2008,
          2009,
          2010,
          2011,
          2012,
          2013,
          2014,
          2015,
          2016,
          2017,
          2018,
          2019,
          2020,
          2021,
          2022,
          2023
         ],
         "xaxis": "x",
         "y": [
          3,
          8,
          5,
          4,
          5,
          8,
          4,
          4,
          4,
          1,
          2,
          1,
          3,
          7,
          10,
          8,
          10,
          8,
          5,
          9,
          7,
          2,
          9,
          8,
          3,
          6,
          9,
          11,
          4,
          7,
          10,
          7,
          4,
          11,
          10,
          4,
          4,
          9,
          3,
          3,
          2,
          1,
          4,
          1,
          6,
          1
         ],
         "yaxis": "y"
        },
        {
         "alignmentgroup": "True",
         "hovertemplate": "Publication type=News<br>Year=%{x}<br>No.of publications per year=%{y}<extra></extra>",
         "legendgroup": "News",
         "marker": {
          "color": "#ab63fa",
          "pattern": {
           "shape": ""
          }
         },
         "name": "News",
         "offsetgroup": "News",
         "orientation": "v",
         "showlegend": true,
         "textposition": "auto",
         "type": "bar",
         "x": [
          1981,
          1982,
          1984,
          1989,
          1991,
          1992,
          1994,
          1996,
          1998,
          2000,
          2001,
          2002,
          2003,
          2004,
          2005,
          2006,
          2009,
          2010,
          2012,
          2013,
          2014,
          2016,
          2017,
          2018,
          2022
         ],
         "xaxis": "x",
         "y": [
          1,
          1,
          2,
          1,
          1,
          1,
          2,
          1,
          2,
          1,
          1,
          4,
          2,
          2,
          1,
          2,
          2,
          2,
          1,
          1,
          1,
          1,
          1,
          1,
          1
         ],
         "yaxis": "y"
        },
        {
         "alignmentgroup": "True",
         "hovertemplate": "Publication type=Interview<br>Year=%{x}<br>No.of publications per year=%{y}<extra></extra>",
         "legendgroup": "Interview",
         "marker": {
          "color": "#FFA15A",
          "pattern": {
           "shape": ""
          }
         },
         "name": "Interview",
         "offsetgroup": "Interview",
         "orientation": "v",
         "showlegend": true,
         "textposition": "auto",
         "type": "bar",
         "x": [
          1984,
          1988,
          1989,
          1992,
          2008
         ],
         "xaxis": "x",
         "y": [
          1,
          1,
          1,
          1,
          2
         ],
         "yaxis": "y"
        },
        {
         "alignmentgroup": "True",
         "hovertemplate": "Publication type=Comment<br>Year=%{x}<br>No.of publications per year=%{y}<extra></extra>",
         "legendgroup": "Comment",
         "marker": {
          "color": "#19d3f3",
          "pattern": {
           "shape": ""
          }
         },
         "name": "Comment",
         "offsetgroup": "Comment",
         "orientation": "v",
         "showlegend": true,
         "textposition": "auto",
         "type": "bar",
         "x": [
          1989,
          1990,
          1991,
          1992,
          1993,
          1994,
          1995,
          1996,
          1997,
          1998,
          1999,
          2000,
          2001,
          2002,
          2003,
          2004,
          2005,
          2006,
          2007,
          2008,
          2009,
          2010
         ],
         "xaxis": "x",
         "y": [
          2,
          16,
          4,
          18,
          12,
          8,
          8,
          8,
          9,
          11,
          4,
          4,
          5,
          5,
          9,
          8,
          13,
          2,
          5,
          4,
          2,
          1
         ],
         "yaxis": "y"
        },
        {
         "alignmentgroup": "True",
         "hovertemplate": "Publication type=Consensus Development Conference<br>Year=%{x}<br>No.of publications per year=%{y}<extra></extra>",
         "legendgroup": "Consensus Development Conference",
         "marker": {
          "color": "#FF6692",
          "pattern": {
           "shape": ""
          }
         },
         "name": "Consensus Development Conference",
         "offsetgroup": "Consensus Development Conference",
         "orientation": "v",
         "showlegend": true,
         "textposition": "auto",
         "type": "bar",
         "x": [
          1992,
          2001,
          2007,
          2014
         ],
         "xaxis": "x",
         "y": [
          1,
          1,
          1,
          2
         ],
         "yaxis": "y"
        },
        {
         "alignmentgroup": "True",
         "hovertemplate": "Publication type=Guideline<br>Year=%{x}<br>No.of publications per year=%{y}<extra></extra>",
         "legendgroup": "Guideline",
         "marker": {
          "color": "#B6E880",
          "pattern": {
           "shape": ""
          }
         },
         "name": "Guideline",
         "offsetgroup": "Guideline",
         "orientation": "v",
         "showlegend": true,
         "textposition": "auto",
         "type": "bar",
         "x": [
          1995,
          1997,
          1999,
          2005
         ],
         "xaxis": "x",
         "y": [
          1,
          1,
          1,
          1
         ],
         "yaxis": "y"
        },
        {
         "alignmentgroup": "True",
         "hovertemplate": "Publication type=Address<br>Year=%{x}<br>No.of publications per year=%{y}<extra></extra>",
         "legendgroup": "Address",
         "marker": {
          "color": "#FF97FF",
          "pattern": {
           "shape": ""
          }
         },
         "name": "Address",
         "offsetgroup": "Address",
         "orientation": "v",
         "showlegend": true,
         "textposition": "auto",
         "type": "bar",
         "x": [
          1998,
          2000,
          2001,
          2004
         ],
         "xaxis": "x",
         "y": [
          1,
          1,
          1,
          2
         ],
         "yaxis": "y"
        },
        {
         "alignmentgroup": "True",
         "hovertemplate": "Publication type=Evaluation Study<br>Year=%{x}<br>No.of publications per year=%{y}<extra></extra>",
         "legendgroup": "Evaluation Study",
         "marker": {
          "color": "#FECB52",
          "pattern": {
           "shape": ""
          }
         },
         "name": "Evaluation Study",
         "offsetgroup": "Evaluation Study",
         "orientation": "v",
         "showlegend": true,
         "textposition": "auto",
         "type": "bar",
         "x": [
          2000,
          2001,
          2004,
          2005,
          2006,
          2007,
          2008,
          2010,
          2011,
          2012,
          2013,
          2015,
          2016,
          2017,
          2018,
          2020
         ],
         "xaxis": "x",
         "y": [
          2,
          2,
          1,
          1,
          2,
          3,
          3,
          2,
          2,
          3,
          1,
          2,
          1,
          1,
          2,
          1
         ],
         "yaxis": "y"
        },
        {
         "alignmentgroup": "True",
         "hovertemplate": "Publication type=Lecture<br>Year=%{x}<br>No.of publications per year=%{y}<extra></extra>",
         "legendgroup": "Lecture",
         "marker": {
          "color": "#636efa",
          "pattern": {
           "shape": ""
          }
         },
         "name": "Lecture",
         "offsetgroup": "Lecture",
         "orientation": "v",
         "showlegend": true,
         "textposition": "auto",
         "type": "bar",
         "x": [
          2002,
          2003
         ],
         "xaxis": "x",
         "y": [
          1,
          1
         ],
         "yaxis": "y"
        },
        {
         "alignmentgroup": "True",
         "hovertemplate": "Publication type=Introductory Journal Article<br>Year=%{x}<br>No.of publications per year=%{y}<extra></extra>",
         "legendgroup": "Introductory Journal Article",
         "marker": {
          "color": "#EF553B",
          "pattern": {
           "shape": ""
          }
         },
         "name": "Introductory Journal Article",
         "offsetgroup": "Introductory Journal Article",
         "orientation": "v",
         "showlegend": true,
         "textposition": "auto",
         "type": "bar",
         "x": [
          2008,
          2009,
          2011
         ],
         "xaxis": "x",
         "y": [
          1,
          1,
          1
         ],
         "yaxis": "y"
        },
        {
         "alignmentgroup": "True",
         "hovertemplate": "Publication type=Corrected and Republished Article<br>Year=%{x}<br>No.of publications per year=%{y}<extra></extra>",
         "legendgroup": "Corrected and Republished Article",
         "marker": {
          "color": "#00cc96",
          "pattern": {
           "shape": ""
          }
         },
         "name": "Corrected and Republished Article",
         "offsetgroup": "Corrected and Republished Article",
         "orientation": "v",
         "showlegend": true,
         "textposition": "auto",
         "type": "bar",
         "x": [
          2009,
          2012
         ],
         "xaxis": "x",
         "y": [
          1,
          1
         ],
         "yaxis": "y"
        },
        {
         "alignmentgroup": "True",
         "hovertemplate": "Publication type=Controlled Clinical Trial<br>Year=%{x}<br>No.of publications per year=%{y}<extra></extra>",
         "legendgroup": "Controlled Clinical Trial",
         "marker": {
          "color": "#ab63fa",
          "pattern": {
           "shape": ""
          }
         },
         "name": "Controlled Clinical Trial",
         "offsetgroup": "Controlled Clinical Trial",
         "orientation": "v",
         "showlegend": true,
         "textposition": "auto",
         "type": "bar",
         "x": [
          2013
         ],
         "xaxis": "x",
         "y": [
          1
         ],
         "yaxis": "y"
        },
        {
         "alignmentgroup": "True",
         "hovertemplate": "Publication type=Clinical Trial Protocol<br>Year=%{x}<br>No.of publications per year=%{y}<extra></extra>",
         "legendgroup": "Clinical Trial Protocol",
         "marker": {
          "color": "#FFA15A",
          "pattern": {
           "shape": ""
          }
         },
         "name": "Clinical Trial Protocol",
         "offsetgroup": "Clinical Trial Protocol",
         "orientation": "v",
         "showlegend": true,
         "textposition": "auto",
         "type": "bar",
         "x": [
          2021,
          2023,
          2024
         ],
         "xaxis": "x",
         "y": [
          1,
          1,
          1
         ],
         "yaxis": "y"
        },
        {
         "alignmentgroup": "True",
         "hovertemplate": "Publication type=Meta-Analysis<br>Year=%{x}<br>No.of publications per year=%{y}<extra></extra>",
         "legendgroup": "Meta-Analysis",
         "marker": {
          "color": "#19d3f3",
          "pattern": {
           "shape": ""
          }
         },
         "name": "Meta-Analysis",
         "offsetgroup": "Meta-Analysis",
         "orientation": "v",
         "showlegend": true,
         "textposition": "auto",
         "type": "bar",
         "x": [
          2022,
          2023
         ],
         "xaxis": "x",
         "y": [
          2,
          1
         ],
         "yaxis": "y"
        },
        {
         "alignmentgroup": "True",
         "hovertemplate": "Publication type=Review<br>Year=%{x}<br>No.of publications per year=%{y}<extra></extra>",
         "legendgroup": "Review",
         "marker": {
          "color": "#FF6692",
          "pattern": {
           "shape": ""
          }
         },
         "name": "Review",
         "offsetgroup": "Review",
         "orientation": "v",
         "showlegend": true,
         "textposition": "auto",
         "type": "bar",
         "x": [
          2022,
          2023
         ],
         "xaxis": "x",
         "y": [
          1,
          2
         ],
         "yaxis": "y"
        },
        {
         "alignmentgroup": "True",
         "hovertemplate": "Publication type=Observational Study<br>Year=%{x}<br>No.of publications per year=%{y}<extra></extra>",
         "legendgroup": "Observational Study",
         "marker": {
          "color": "#B6E880",
          "pattern": {
           "shape": ""
          }
         },
         "name": "Observational Study",
         "offsetgroup": "Observational Study",
         "orientation": "v",
         "showlegend": true,
         "textposition": "auto",
         "type": "bar",
         "x": [
          2023,
          2024
         ],
         "xaxis": "x",
         "y": [
          3,
          1
         ],
         "yaxis": "y"
        },
        {
         "alignmentgroup": "True",
         "hovertemplate": "Publication type=Randomized Controlled Trial<br>Year=%{x}<br>No.of publications per year=%{y}<extra></extra>",
         "legendgroup": "Randomized Controlled Trial",
         "marker": {
          "color": "#FF97FF",
          "pattern": {
           "shape": ""
          }
         },
         "name": "Randomized Controlled Trial",
         "offsetgroup": "Randomized Controlled Trial",
         "orientation": "v",
         "showlegend": true,
         "textposition": "auto",
         "type": "bar",
         "x": [
          2023
         ],
         "xaxis": "x",
         "y": [
          1
         ],
         "yaxis": "y"
        },
        {
         "alignmentgroup": "True",
         "hovertemplate": "Publication type=Systematic Review<br>Year=%{x}<br>No.of publications per year=%{y}<extra></extra>",
         "legendgroup": "Systematic Review",
         "marker": {
          "color": "#FECB52",
          "pattern": {
           "shape": ""
          }
         },
         "name": "Systematic Review",
         "offsetgroup": "Systematic Review",
         "orientation": "v",
         "showlegend": true,
         "textposition": "auto",
         "type": "bar",
         "x": [
          2023,
          2024
         ],
         "xaxis": "x",
         "y": [
          5,
          1
         ],
         "yaxis": "y"
        }
       ],
       "layout": {
        "barmode": "stack",
        "legend": {
         "title": {
          "text": "Publication type"
         },
         "tracegroupgap": 0
        },
        "template": {
         "data": {
          "bar": [
           {
            "error_x": {
             "color": "#2a3f5f"
            },
            "error_y": {
             "color": "#2a3f5f"
            },
            "marker": {
             "line": {
              "color": "#E5ECF6",
              "width": 0.5
             },
             "pattern": {
              "fillmode": "overlay",
              "size": 10,
              "solidity": 0.2
             }
            },
            "type": "bar"
           }
          ],
          "barpolar": [
           {
            "marker": {
             "line": {
              "color": "#E5ECF6",
              "width": 0.5
             },
             "pattern": {
              "fillmode": "overlay",
              "size": 10,
              "solidity": 0.2
             }
            },
            "type": "barpolar"
           }
          ],
          "carpet": [
           {
            "aaxis": {
             "endlinecolor": "#2a3f5f",
             "gridcolor": "white",
             "linecolor": "white",
             "minorgridcolor": "white",
             "startlinecolor": "#2a3f5f"
            },
            "baxis": {
             "endlinecolor": "#2a3f5f",
             "gridcolor": "white",
             "linecolor": "white",
             "minorgridcolor": "white",
             "startlinecolor": "#2a3f5f"
            },
            "type": "carpet"
           }
          ],
          "choropleth": [
           {
            "colorbar": {
             "outlinewidth": 0,
             "ticks": ""
            },
            "type": "choropleth"
           }
          ],
          "contour": [
           {
            "colorbar": {
             "outlinewidth": 0,
             "ticks": ""
            },
            "colorscale": [
             [
              0,
              "#0d0887"
             ],
             [
              0.1111111111111111,
              "#46039f"
             ],
             [
              0.2222222222222222,
              "#7201a8"
             ],
             [
              0.3333333333333333,
              "#9c179e"
             ],
             [
              0.4444444444444444,
              "#bd3786"
             ],
             [
              0.5555555555555556,
              "#d8576b"
             ],
             [
              0.6666666666666666,
              "#ed7953"
             ],
             [
              0.7777777777777778,
              "#fb9f3a"
             ],
             [
              0.8888888888888888,
              "#fdca26"
             ],
             [
              1,
              "#f0f921"
             ]
            ],
            "type": "contour"
           }
          ],
          "contourcarpet": [
           {
            "colorbar": {
             "outlinewidth": 0,
             "ticks": ""
            },
            "type": "contourcarpet"
           }
          ],
          "heatmap": [
           {
            "colorbar": {
             "outlinewidth": 0,
             "ticks": ""
            },
            "colorscale": [
             [
              0,
              "#0d0887"
             ],
             [
              0.1111111111111111,
              "#46039f"
             ],
             [
              0.2222222222222222,
              "#7201a8"
             ],
             [
              0.3333333333333333,
              "#9c179e"
             ],
             [
              0.4444444444444444,
              "#bd3786"
             ],
             [
              0.5555555555555556,
              "#d8576b"
             ],
             [
              0.6666666666666666,
              "#ed7953"
             ],
             [
              0.7777777777777778,
              "#fb9f3a"
             ],
             [
              0.8888888888888888,
              "#fdca26"
             ],
             [
              1,
              "#f0f921"
             ]
            ],
            "type": "heatmap"
           }
          ],
          "heatmapgl": [
           {
            "colorbar": {
             "outlinewidth": 0,
             "ticks": ""
            },
            "colorscale": [
             [
              0,
              "#0d0887"
             ],
             [
              0.1111111111111111,
              "#46039f"
             ],
             [
              0.2222222222222222,
              "#7201a8"
             ],
             [
              0.3333333333333333,
              "#9c179e"
             ],
             [
              0.4444444444444444,
              "#bd3786"
             ],
             [
              0.5555555555555556,
              "#d8576b"
             ],
             [
              0.6666666666666666,
              "#ed7953"
             ],
             [
              0.7777777777777778,
              "#fb9f3a"
             ],
             [
              0.8888888888888888,
              "#fdca26"
             ],
             [
              1,
              "#f0f921"
             ]
            ],
            "type": "heatmapgl"
           }
          ],
          "histogram": [
           {
            "marker": {
             "pattern": {
              "fillmode": "overlay",
              "size": 10,
              "solidity": 0.2
             }
            },
            "type": "histogram"
           }
          ],
          "histogram2d": [
           {
            "colorbar": {
             "outlinewidth": 0,
             "ticks": ""
            },
            "colorscale": [
             [
              0,
              "#0d0887"
             ],
             [
              0.1111111111111111,
              "#46039f"
             ],
             [
              0.2222222222222222,
              "#7201a8"
             ],
             [
              0.3333333333333333,
              "#9c179e"
             ],
             [
              0.4444444444444444,
              "#bd3786"
             ],
             [
              0.5555555555555556,
              "#d8576b"
             ],
             [
              0.6666666666666666,
              "#ed7953"
             ],
             [
              0.7777777777777778,
              "#fb9f3a"
             ],
             [
              0.8888888888888888,
              "#fdca26"
             ],
             [
              1,
              "#f0f921"
             ]
            ],
            "type": "histogram2d"
           }
          ],
          "histogram2dcontour": [
           {
            "colorbar": {
             "outlinewidth": 0,
             "ticks": ""
            },
            "colorscale": [
             [
              0,
              "#0d0887"
             ],
             [
              0.1111111111111111,
              "#46039f"
             ],
             [
              0.2222222222222222,
              "#7201a8"
             ],
             [
              0.3333333333333333,
              "#9c179e"
             ],
             [
              0.4444444444444444,
              "#bd3786"
             ],
             [
              0.5555555555555556,
              "#d8576b"
             ],
             [
              0.6666666666666666,
              "#ed7953"
             ],
             [
              0.7777777777777778,
              "#fb9f3a"
             ],
             [
              0.8888888888888888,
              "#fdca26"
             ],
             [
              1,
              "#f0f921"
             ]
            ],
            "type": "histogram2dcontour"
           }
          ],
          "mesh3d": [
           {
            "colorbar": {
             "outlinewidth": 0,
             "ticks": ""
            },
            "type": "mesh3d"
           }
          ],
          "parcoords": [
           {
            "line": {
             "colorbar": {
              "outlinewidth": 0,
              "ticks": ""
             }
            },
            "type": "parcoords"
           }
          ],
          "pie": [
           {
            "automargin": true,
            "type": "pie"
           }
          ],
          "scatter": [
           {
            "fillpattern": {
             "fillmode": "overlay",
             "size": 10,
             "solidity": 0.2
            },
            "type": "scatter"
           }
          ],
          "scatter3d": [
           {
            "line": {
             "colorbar": {
              "outlinewidth": 0,
              "ticks": ""
             }
            },
            "marker": {
             "colorbar": {
              "outlinewidth": 0,
              "ticks": ""
             }
            },
            "type": "scatter3d"
           }
          ],
          "scattercarpet": [
           {
            "marker": {
             "colorbar": {
              "outlinewidth": 0,
              "ticks": ""
             }
            },
            "type": "scattercarpet"
           }
          ],
          "scattergeo": [
           {
            "marker": {
             "colorbar": {
              "outlinewidth": 0,
              "ticks": ""
             }
            },
            "type": "scattergeo"
           }
          ],
          "scattergl": [
           {
            "marker": {
             "colorbar": {
              "outlinewidth": 0,
              "ticks": ""
             }
            },
            "type": "scattergl"
           }
          ],
          "scattermapbox": [
           {
            "marker": {
             "colorbar": {
              "outlinewidth": 0,
              "ticks": ""
             }
            },
            "type": "scattermapbox"
           }
          ],
          "scatterpolar": [
           {
            "marker": {
             "colorbar": {
              "outlinewidth": 0,
              "ticks": ""
             }
            },
            "type": "scatterpolar"
           }
          ],
          "scatterpolargl": [
           {
            "marker": {
             "colorbar": {
              "outlinewidth": 0,
              "ticks": ""
             }
            },
            "type": "scatterpolargl"
           }
          ],
          "scatterternary": [
           {
            "marker": {
             "colorbar": {
              "outlinewidth": 0,
              "ticks": ""
             }
            },
            "type": "scatterternary"
           }
          ],
          "surface": [
           {
            "colorbar": {
             "outlinewidth": 0,
             "ticks": ""
            },
            "colorscale": [
             [
              0,
              "#0d0887"
             ],
             [
              0.1111111111111111,
              "#46039f"
             ],
             [
              0.2222222222222222,
              "#7201a8"
             ],
             [
              0.3333333333333333,
              "#9c179e"
             ],
             [
              0.4444444444444444,
              "#bd3786"
             ],
             [
              0.5555555555555556,
              "#d8576b"
             ],
             [
              0.6666666666666666,
              "#ed7953"
             ],
             [
              0.7777777777777778,
              "#fb9f3a"
             ],
             [
              0.8888888888888888,
              "#fdca26"
             ],
             [
              1,
              "#f0f921"
             ]
            ],
            "type": "surface"
           }
          ],
          "table": [
           {
            "cells": {
             "fill": {
              "color": "#EBF0F8"
             },
             "line": {
              "color": "white"
             }
            },
            "header": {
             "fill": {
              "color": "#C8D4E3"
             },
             "line": {
              "color": "white"
             }
            },
            "type": "table"
           }
          ]
         },
         "layout": {
          "annotationdefaults": {
           "arrowcolor": "#2a3f5f",
           "arrowhead": 0,
           "arrowwidth": 1
          },
          "autotypenumbers": "strict",
          "coloraxis": {
           "colorbar": {
            "outlinewidth": 0,
            "ticks": ""
           }
          },
          "colorscale": {
           "diverging": [
            [
             0,
             "#8e0152"
            ],
            [
             0.1,
             "#c51b7d"
            ],
            [
             0.2,
             "#de77ae"
            ],
            [
             0.3,
             "#f1b6da"
            ],
            [
             0.4,
             "#fde0ef"
            ],
            [
             0.5,
             "#f7f7f7"
            ],
            [
             0.6,
             "#e6f5d0"
            ],
            [
             0.7,
             "#b8e186"
            ],
            [
             0.8,
             "#7fbc41"
            ],
            [
             0.9,
             "#4d9221"
            ],
            [
             1,
             "#276419"
            ]
           ],
           "sequential": [
            [
             0,
             "#0d0887"
            ],
            [
             0.1111111111111111,
             "#46039f"
            ],
            [
             0.2222222222222222,
             "#7201a8"
            ],
            [
             0.3333333333333333,
             "#9c179e"
            ],
            [
             0.4444444444444444,
             "#bd3786"
            ],
            [
             0.5555555555555556,
             "#d8576b"
            ],
            [
             0.6666666666666666,
             "#ed7953"
            ],
            [
             0.7777777777777778,
             "#fb9f3a"
            ],
            [
             0.8888888888888888,
             "#fdca26"
            ],
            [
             1,
             "#f0f921"
            ]
           ],
           "sequentialminus": [
            [
             0,
             "#0d0887"
            ],
            [
             0.1111111111111111,
             "#46039f"
            ],
            [
             0.2222222222222222,
             "#7201a8"
            ],
            [
             0.3333333333333333,
             "#9c179e"
            ],
            [
             0.4444444444444444,
             "#bd3786"
            ],
            [
             0.5555555555555556,
             "#d8576b"
            ],
            [
             0.6666666666666666,
             "#ed7953"
            ],
            [
             0.7777777777777778,
             "#fb9f3a"
            ],
            [
             0.8888888888888888,
             "#fdca26"
            ],
            [
             1,
             "#f0f921"
            ]
           ]
          },
          "colorway": [
           "#636efa",
           "#EF553B",
           "#00cc96",
           "#ab63fa",
           "#FFA15A",
           "#19d3f3",
           "#FF6692",
           "#B6E880",
           "#FF97FF",
           "#FECB52"
          ],
          "font": {
           "color": "#2a3f5f"
          },
          "geo": {
           "bgcolor": "white",
           "lakecolor": "white",
           "landcolor": "#E5ECF6",
           "showlakes": true,
           "showland": true,
           "subunitcolor": "white"
          },
          "hoverlabel": {
           "align": "left"
          },
          "hovermode": "closest",
          "mapbox": {
           "style": "light"
          },
          "paper_bgcolor": "white",
          "plot_bgcolor": "#E5ECF6",
          "polar": {
           "angularaxis": {
            "gridcolor": "white",
            "linecolor": "white",
            "ticks": ""
           },
           "bgcolor": "#E5ECF6",
           "radialaxis": {
            "gridcolor": "white",
            "linecolor": "white",
            "ticks": ""
           }
          },
          "scene": {
           "xaxis": {
            "backgroundcolor": "#E5ECF6",
            "gridcolor": "white",
            "gridwidth": 2,
            "linecolor": "white",
            "showbackground": true,
            "ticks": "",
            "zerolinecolor": "white"
           },
           "yaxis": {
            "backgroundcolor": "#E5ECF6",
            "gridcolor": "white",
            "gridwidth": 2,
            "linecolor": "white",
            "showbackground": true,
            "ticks": "",
            "zerolinecolor": "white"
           },
           "zaxis": {
            "backgroundcolor": "#E5ECF6",
            "gridcolor": "white",
            "gridwidth": 2,
            "linecolor": "white",
            "showbackground": true,
            "ticks": "",
            "zerolinecolor": "white"
           }
          },
          "shapedefaults": {
           "line": {
            "color": "#2a3f5f"
           }
          },
          "ternary": {
           "aaxis": {
            "gridcolor": "white",
            "linecolor": "white",
            "ticks": ""
           },
           "baxis": {
            "gridcolor": "white",
            "linecolor": "white",
            "ticks": ""
           },
           "bgcolor": "#E5ECF6",
           "caxis": {
            "gridcolor": "white",
            "linecolor": "white",
            "ticks": ""
           }
          },
          "title": {
           "x": 0.05
          },
          "xaxis": {
           "automargin": true,
           "gridcolor": "white",
           "linecolor": "white",
           "ticks": "",
           "title": {
            "standoff": 15
           },
           "zerolinecolor": "white",
           "zerolinewidth": 2
          },
          "yaxis": {
           "automargin": true,
           "gridcolor": "white",
           "linecolor": "white",
           "ticks": "",
           "title": {
            "standoff": 15
           },
           "zerolinecolor": "white",
           "zerolinewidth": 2
          }
         }
        },
        "title": {
         "text": "Publication types by year"
        },
        "xaxis": {
         "anchor": "y",
         "domain": [
          0,
          1
         ],
         "title": {
          "text": "Year"
         }
        },
        "yaxis": {
         "anchor": "x",
         "domain": [
          0,
          1
         ],
         "title": {
          "text": "No.of publications per year"
         }
        }
       }
      }
     },
     "metadata": {},
     "output_type": "display_data"
    }
   ],
   "source": [
    "# publication type by year\n",
    "jour_counts=df.groupby(['publication_year','publication_type'])['journal'].count()\n",
    "jour_counts=jour_counts.reset_index()\n",
    "fig=px.bar(df,x=jour_counts['publication_year'],y=jour_counts['journal'],barmode='stack',\n",
    "           color=jour_counts['publication_type'],\n",
    "           labels={'x':'Year','y':'No.of publications per year','color':'Publication type'},\n",
    "           title='Publication types by year')\n",
    "fig.show()"
   ]
  },
  {
   "cell_type": "code",
   "execution_count": 14,
   "metadata": {},
   "outputs": [
    {
     "data": {
      "text/plain": [
       "(2400, 6)"
      ]
     },
     "execution_count": 14,
     "metadata": {},
     "output_type": "execute_result"
    }
   ],
   "source": [
    "# subsetting the original dataframe to only include journal articles\n",
    "lep_articles = df[(df['publication_type']==\"Journal Article\") & (df['abstract']!=\"No Abstract\")]\n",
    "lep_articles.shape"
   ]
  },
  {
   "cell_type": "code",
   "execution_count": 15,
   "metadata": {},
   "outputs": [],
   "source": [
    "# find all the abbreviations in the abstract\n",
    "abbreviations = re.findall(r\"\\b[A-Z]{2,}\\b\",lep_articles['abstract'].to_string())"
   ]
  },
  {
   "cell_type": "markdown",
   "metadata": {},
   "source": [
    "Data Preprocessing"
   ]
  },
  {
   "cell_type": "code",
   "execution_count": 16,
   "metadata": {},
   "outputs": [],
   "source": [
    "from nltk.tokenize import word_tokenize\n",
    "# preprocessing the data -- remove spaces and digits\n",
    "def process(text):\n",
    "    text = re.sub(r'[^\\w\\s]', '', text) \n",
    "    text = re.sub(r'\\d','',text)\n",
    "    return text\n",
    "lep_data = lep_articles.loc[:,['title','abstract','publication_year']]\n",
    "lep_data['cleaned_abstract']=lep_data['abstract'].apply(lambda x:process(x))\n",
    "\n",
    "# tokenize and convert to lower case\n",
    "def tokenize(text):\n",
    "    text = word_tokenize(text)\n",
    "    lowered_text =[]\n",
    "\n",
    "    for i in text:\n",
    "        if i in abbreviations:\n",
    "            lowered_text.append(i)\n",
    "        elif len(i)>2 and i not in abbreviations:\n",
    "            lowered_text.append(i.lower())\n",
    "    return lowered_text\n",
    "\n",
    "lep_data['tokens']= lep_data['cleaned_abstract'].apply(lambda x:tokenize(x))\n",
    "\n",
    "# defining stopwords to remove\n",
    "stopwords_list = stopwords.words('english')\n",
    "stopwords_list.append(\"leprosy\")\n",
    "\n",
    "def remove_stopwords(tokens):\n",
    "    return [token for token in tokens if token not in stopwords_list]\n",
    "\n",
    "lep_data['no_stopwords'] = lep_data['tokens'].apply(remove_stopwords)\n"
   ]
  },
  {
   "cell_type": "code",
   "execution_count": 17,
   "metadata": {},
   "outputs": [],
   "source": [
    "# bigrams\n",
    "bigrams = Phrases(lep_data['no_stopwords'], min_count=3, threshold=10)\n",
    "lep_data['bigrams'] = lep_data['no_stopwords'].apply(lambda x:bigrams[x])\n",
    "lep_data=lep_data.reset_index(drop=True)"
   ]
  },
  {
   "cell_type": "code",
   "execution_count": 18,
   "metadata": {},
   "outputs": [
    {
     "data": {
      "text/html": [
       "<div>\n",
       "<style scoped>\n",
       "    .dataframe tbody tr th:only-of-type {\n",
       "        vertical-align: middle;\n",
       "    }\n",
       "\n",
       "    .dataframe tbody tr th {\n",
       "        vertical-align: top;\n",
       "    }\n",
       "\n",
       "    .dataframe thead th {\n",
       "        text-align: right;\n",
       "    }\n",
       "</style>\n",
       "<table border=\"1\" class=\"dataframe\">\n",
       "  <thead>\n",
       "    <tr style=\"text-align: right;\">\n",
       "      <th></th>\n",
       "      <th>title</th>\n",
       "      <th>abstract</th>\n",
       "      <th>publication_year</th>\n",
       "      <th>cleaned_abstract</th>\n",
       "      <th>tokens</th>\n",
       "      <th>no_stopwords</th>\n",
       "      <th>bigrams</th>\n",
       "    </tr>\n",
       "  </thead>\n",
       "  <tbody>\n",
       "    <tr>\n",
       "      <th>0</th>\n",
       "      <td>Leprosy: Clinical aspects and diagnostic techn...</td>\n",
       "      <td>Leprosy, also known as Hansen's disease, is a ...</td>\n",
       "      <td>2020.0</td>\n",
       "      <td>Leprosy also known as Hansens disease is a cur...</td>\n",
       "      <td>[leprosy, also, known, hansens, disease, curab...</td>\n",
       "      <td>[also, known, hansens, disease, curable, infec...</td>\n",
       "      <td>[also_known, hansens_disease, curable, infecti...</td>\n",
       "    </tr>\n",
       "    <tr>\n",
       "      <th>1</th>\n",
       "      <td>Position statement: LEPROSY: Diagnosis, treatm...</td>\n",
       "      <td>Leprosy or Hansen's disease is a chronic infec...</td>\n",
       "      <td>2019.0</td>\n",
       "      <td>Leprosy or Hansens disease is a chronic infect...</td>\n",
       "      <td>[leprosy, hansens, disease, chronic, infection...</td>\n",
       "      <td>[hansens, disease, chronic, infection, caused,...</td>\n",
       "      <td>[hansens_disease, chronic, infection_caused, m...</td>\n",
       "    </tr>\n",
       "    <tr>\n",
       "      <th>2</th>\n",
       "      <td>Leprosy in the 21st century.</td>\n",
       "      <td>Despite significant improvements in leprosy (H...</td>\n",
       "      <td>2015.0</td>\n",
       "      <td>Despite significant improvements in leprosy Ha...</td>\n",
       "      <td>[despite, significant, improvements, leprosy, ...</td>\n",
       "      <td>[despite, significant, improvements, hansens, ...</td>\n",
       "      <td>[despite, significant, improvements, hansens_d...</td>\n",
       "    </tr>\n",
       "    <tr>\n",
       "      <th>3</th>\n",
       "      <td>Neuropathies of leprosy.</td>\n",
       "      <td>Neuropathies form an integral part of the symp...</td>\n",
       "      <td>2021.0</td>\n",
       "      <td>Neuropathies form an integral part of the symp...</td>\n",
       "      <td>[neuropathies, form, integral, part, the, symp...</td>\n",
       "      <td>[neuropathies, form, integral, part, symptomat...</td>\n",
       "      <td>[neuropathies, form, integral, part, symptomat...</td>\n",
       "    </tr>\n",
       "    <tr>\n",
       "      <th>4</th>\n",
       "      <td>Leprosy.</td>\n",
       "      <td>The World Health Organization field leprosy cl...</td>\n",
       "      <td>2007.0</td>\n",
       "      <td>The World Health Organization field leprosy cl...</td>\n",
       "      <td>[the, world, health, organization, field, lepr...</td>\n",
       "      <td>[world, health, organization, field, classific...</td>\n",
       "      <td>[world_health, organization, field, classifica...</td>\n",
       "    </tr>\n",
       "  </tbody>\n",
       "</table>\n",
       "</div>"
      ],
      "text/plain": [
       "                                               title  \\\n",
       "0  Leprosy: Clinical aspects and diagnostic techn...   \n",
       "1  Position statement: LEPROSY: Diagnosis, treatm...   \n",
       "2                       Leprosy in the 21st century.   \n",
       "3                           Neuropathies of leprosy.   \n",
       "4                                           Leprosy.   \n",
       "\n",
       "                                            abstract  publication_year  \\\n",
       "0  Leprosy, also known as Hansen's disease, is a ...            2020.0   \n",
       "1  Leprosy or Hansen's disease is a chronic infec...            2019.0   \n",
       "2  Despite significant improvements in leprosy (H...            2015.0   \n",
       "3  Neuropathies form an integral part of the symp...            2021.0   \n",
       "4  The World Health Organization field leprosy cl...            2007.0   \n",
       "\n",
       "                                    cleaned_abstract  \\\n",
       "0  Leprosy also known as Hansens disease is a cur...   \n",
       "1  Leprosy or Hansens disease is a chronic infect...   \n",
       "2  Despite significant improvements in leprosy Ha...   \n",
       "3  Neuropathies form an integral part of the symp...   \n",
       "4  The World Health Organization field leprosy cl...   \n",
       "\n",
       "                                              tokens  \\\n",
       "0  [leprosy, also, known, hansens, disease, curab...   \n",
       "1  [leprosy, hansens, disease, chronic, infection...   \n",
       "2  [despite, significant, improvements, leprosy, ...   \n",
       "3  [neuropathies, form, integral, part, the, symp...   \n",
       "4  [the, world, health, organization, field, lepr...   \n",
       "\n",
       "                                        no_stopwords  \\\n",
       "0  [also, known, hansens, disease, curable, infec...   \n",
       "1  [hansens, disease, chronic, infection, caused,...   \n",
       "2  [despite, significant, improvements, hansens, ...   \n",
       "3  [neuropathies, form, integral, part, symptomat...   \n",
       "4  [world, health, organization, field, classific...   \n",
       "\n",
       "                                             bigrams  \n",
       "0  [also_known, hansens_disease, curable, infecti...  \n",
       "1  [hansens_disease, chronic, infection_caused, m...  \n",
       "2  [despite, significant, improvements, hansens_d...  \n",
       "3  [neuropathies, form, integral, part, symptomat...  \n",
       "4  [world_health, organization, field, classifica...  "
      ]
     },
     "execution_count": 18,
     "metadata": {},
     "output_type": "execute_result"
    }
   ],
   "source": [
    "lep_data.head()"
   ]
  },
  {
   "cell_type": "markdown",
   "metadata": {},
   "source": [
    "# Tokens to vector representation \n",
    "In a simpler sense, this is just a way of representing our texts into numbers or what they like to call vector space. This makes our text data ready to be fed to LDA model or any other such model. Two popular ways of such vector representation include:\n",
    "- BoW model - Bag of Words representation -- where you consider a corpus to be just a random collection of words- no consideration for order of words. Here, we are concerned with the frequencies of each unique term in the corpus across each document. And then you represent this in a form of multidimensional data where terms represent column and documents represent rows. The cell contains the number of occurences of each term in each document\n",
    "- tf-idf model - this seeks to avert one of the disadvantages of bow model where as we only consider the frequencies of term, the most common words in every document that maynot even have significant contextual meaning gets more representation compared to relatively rarer words. "
   ]
  },
  {
   "cell_type": "code",
   "execution_count": 19,
   "metadata": {},
   "outputs": [],
   "source": [
    "# BoW representation of the documents\n",
    "docs = lep_data['bigrams'].to_list()\n",
    "import pprint\n",
    "# create dictionary\n",
    "''' takes in tokenized data and counts the frequency of each term in each document of the corpus\n",
    "    assigning their corresponding frequencies as unique ids to each term creating a dictionary.\n",
    "'''\n",
    "bow_dict=corpora.Dictionary(docs)\n",
    "# term document frequency\n",
    "corpus =[bow_dict.doc2bow(doc) for doc in docs]\n",
    "#pprint.pprint(corpus)\n",
    "\n",
    "#for doc in corpus:\n",
    "#   print([[bow_dict[id],freq]for id, freq in doc])\n"
   ]
  },
  {
   "cell_type": "code",
   "execution_count": 20,
   "metadata": {},
   "outputs": [],
   "source": [
    "corpus_dict ={}\n",
    "for doc in corpus:\n",
    "    for idx, freq in doc:\n",
    "        term = bow_dict[idx] \n",
    "        if term in corpus_dict:\n",
    "            corpus_dict[term] += freq\n",
    "        else:\n",
    "            corpus_dict[term] = freq"
   ]
  },
  {
   "cell_type": "code",
   "execution_count": 21,
   "metadata": {},
   "outputs": [
    {
     "data": {
      "text/plain": [
       "<Figure size 640x480 with 0 Axes>"
      ]
     },
     "metadata": {},
     "output_type": "display_data"
    },
    {
     "data": {
      "image/png": "[encoded data removed]",
      "text/plain": [
       "<Figure size 600x400 with 1 Axes>"
      ]
     },
     "metadata": {},
     "output_type": "display_data"
    }
   ],
   "source": [
    "cloud_whole_period = WordCloud(random_state=4,background_color='white',width=600, height=400).generate_from_frequencies(corpus_dict)\n",
    "plt.tight_layout()\n",
    "plt.figure(figsize=(6,4) )\n",
    "plt.imshow(cloud_whole_period)\n",
    "plt.axis('off')\n",
    "plt.show()"
   ]
  },
  {
   "cell_type": "code",
   "execution_count": 22,
   "metadata": {},
   "outputs": [],
   "source": [
    "# creating tf-idf model\n",
    "tfidf = TfidfModel(corpus) \n",
    "#for doc in tfidf[corpus]:\n",
    "#   print([[bow_dict[id],wt] for id, wt in doc])    "
   ]
  },
  {
   "cell_type": "code",
   "execution_count": 23,
   "metadata": {},
   "outputs": [],
   "source": [
    "# training with lda \n",
    "lda = gensim.models.ldamodel.LdaModel"
   ]
  },
  {
   "cell_type": "markdown",
   "metadata": {},
   "source": [
    "Coherence Score is one of the common evaluation metric for LDA topic modelling. It is used to determine the optimal number of most  topics based on coherence(how much do words in each topic make sense together)."
   ]
  },
  {
   "cell_type": "code",
   "execution_count": 24,
   "metadata": {},
   "outputs": [],
   "source": [
    "# coherence score based on the CV metric\n",
    "topics = []\n",
    "score = []\n",
    "for i in range(1,20,1):\n",
    "    lda_model = lda(\n",
    "    corpus = tfidf[corpus],\n",
    "    id2word=bow_dict,\n",
    "    num_topics = i,\n",
    "    alpha =0.1,\n",
    "    eta=\"auto\",\n",
    "    passes=1,\n",
    "    iterations = 50,\n",
    "    random_state=42,\n",
    "    eval_every =None)\n",
    "\n",
    "    cm = CoherenceModel(model= lda_model, \n",
    "                        texts=docs,\n",
    "                        corpus=tfidf[corpus], \n",
    "                        dictionary=bow_dict,\n",
    "                        coherence=\"c_v\")\n",
    "    topics.append(i)\n",
    "    score.append(cm.get_coherence())\n"
   ]
  },
  {
   "cell_type": "code",
   "execution_count": 25,
   "metadata": {},
   "outputs": [
    {
     "data": {
      "image/png": "[encoded data removed]",
      "text/plain": [
       "<Figure size 640x480 with 1 Axes>"
      ]
     },
     "metadata": {},
     "output_type": "display_data"
    }
   ],
   "source": [
    "plt.plot(topics, score)\n",
    "plt.scatter(topics[np.argmax(score)],np.max(score),color=\"red\")\n",
    "plt.xlabel(\"Number of Topics\")\n",
    "plt.ylabel(\"Coherence Score\")\n",
    "plt.grid(axis=\"x\")\n",
    "plt.show()"
   ]
  },
  {
   "cell_type": "markdown",
   "metadata": {},
   "source": [
    "Hence, choosing num_topics = 17 where the coherence seems to be maximum based on above coherence score plot."
   ]
  },
  {
   "cell_type": "code",
   "execution_count": 26,
   "metadata": {},
   "outputs": [],
   "source": [
    "lda_model1 = lda(\n",
    "    corpus = tfidf[corpus],\n",
    "    id2word=bow_dict,\n",
    "    num_topics = 17,\n",
    "    alpha =0.1,\n",
    "    eta=\"auto\",\n",
    "    passes=1,\n",
    "    iterations = 50,\n",
    "    random_state=42,\n",
    "    eval_every =None)"
   ]
  },
  {
   "cell_type": "code",
   "execution_count": 27,
   "metadata": {},
   "outputs": [
    {
     "data": {
      "text/plain": [
       "[(0,\n",
       "  '0.003*\"MB_patients\" + 0.002*\"protection\" + 0.002*\"affection\" + 0.002*\"beliefs\" + 0.002*\"patients\" + 0.002*\"heart_disease\" + 0.002*\"PB\" + 0.002*\"MB_PB\" + 0.001*\"adolescents\" + 0.001*\"health_professionals\"'),\n",
       " (1,\n",
       "  '0.003*\"mice\" + 0.003*\"antibodies\" + 0.002*\"leprae\" + 0.002*\"lepromatous\" + 0.002*\"single_dose\" + 0.002*\"cases\" + 0.002*\"developed\" + 0.002*\"vaccines\" + 0.002*\"inoculated\" + 0.002*\"resistance\"'),\n",
       " (2,\n",
       "  '0.003*\"facial_nerve\" + 0.002*\"picos\" + 0.002*\"valid\" + 0.002*\"leprosin\" + 0.002*\"normal_subjects\" + 0.001*\"collagen\" + 0.001*\"ilr\" + 0.001*\"north\" + 0.001*\"quantitative\" + 0.001*\"profile\"'),\n",
       " (3,\n",
       "  '0.002*\"resistant\" + 0.001*\"gynecomastia\" + 0.001*\"discrimination\" + 0.001*\"subjects\" + 0.001*\"lepromatous_tuberculoid\" + 0.001*\"patients\" + 0.001*\"training\" + 0.001*\"determinants\" + 0.001*\"integrated\" + 0.001*\"features\"'),\n",
       " (4,\n",
       "  '0.003*\"genes\" + 0.003*\"polymorphisms\" + 0.003*\"tlr\" + 0.002*\"gene\" + 0.002*\"susceptibility\" + 0.002*\"patients\" + 0.002*\"protein\" + 0.002*\"macrophages\" + 0.002*\"association\" + 0.002*\"model\"'),\n",
       " (5,\n",
       "  '0.003*\"IL\" + 0.002*\"hanseniasis\" + 0.002*\"sensitization\" + 0.002*\"vntrs\" + 0.002*\"determine_whether\" + 0.002*\"current_strategy\" + 0.002*\"smear_negativity\" + 0.002*\"pgli_antigen\" + 0.002*\"perception\" + 0.001*\"prevalence\"'),\n",
       " (6,\n",
       "  '0.003*\"leprosum\" + 0.002*\"seropositivity\" + 0.002*\"complement\" + 0.002*\"enzymes\" + 0.002*\"percent_change\" + 0.002*\"component\" + 0.002*\"community_based\" + 0.002*\"vietnamese\" + 0.002*\"average_annual\" + 0.002*\"erythema_nodosum\"'),\n",
       " (7,\n",
       "  '0.003*\"health_education\" + 0.002*\"variables\" + 0.002*\"patients\" + 0.002*\"inhibitor\" + 0.002*\"outlined\" + 0.002*\"itineraries\" + 0.002*\"determine\" + 0.002*\"islands\" + 0.001*\"factors_associated\" + 0.001*\"MDT\"'),\n",
       " (8,\n",
       "  '0.002*\"hladrb\" + 0.002*\"achieved_elimination\" + 0.002*\"national_level\" + 0.001*\"taiwan\" + 0.001*\"immune_response\" + 0.001*\"TB\" + 0.001*\"pyar\" + 0.001*\"memorandum\" + 0.001*\"factors_associated\" + 0.001*\"western\"'),\n",
       " (9,\n",
       "  '0.003*\"HLA\" + 0.002*\"assays\" + 0.002*\"antibody_activity\" + 0.002*\"pgli\" + 0.002*\"eye\" + 0.002*\"rajasthan\" + 0.002*\"patients\" + 0.002*\"quantify\" + 0.002*\"segregation\" + 0.002*\"antibodies\"'),\n",
       " (10,\n",
       "  '0.002*\"lysozyme\" + 0.002*\"section\" + 0.002*\"percent\" + 0.002*\"scalp\" + 0.002*\"facial\" + 0.002*\"endocrine\" + 0.002*\"human_immunodeficiency\" + 0.002*\"cases\" + 0.001*\"obscure\" + 0.001*\"virus_HIV\"'),\n",
       " (11,\n",
       "  '0.003*\"rheumatological_manifestations\" + 0.002*\"DTH\" + 0.002*\"igg_igg\" + 0.002*\"HLA_antigens\" + 0.002*\"ccl\" + 0.002*\"posterior\" + 0.001*\"rapidity\" + 0.001*\"TB\" + 0.001*\"knew\" + 0.001*\"adopted\"'),\n",
       " (12,\n",
       "  '0.003*\"urine\" + 0.002*\"patients\" + 0.002*\"cases\" + 0.002*\"type\" + 0.002*\"assay\" + 0.002*\"lepromatous\" + 0.002*\"cells\" + 0.002*\"integration\" + 0.002*\"environmental\" + 0.002*\"deformities\"'),\n",
       " (13,\n",
       "  '0.004*\"patients\" + 0.002*\"cases\" + 0.002*\"treatment\" + 0.002*\"disease\" + 0.002*\"found\" + 0.002*\"association\" + 0.002*\"system\" + 0.002*\"technique\" + 0.002*\"HD\" + 0.002*\"contacts\"'),\n",
       " (14,\n",
       "  '0.005*\"immunoglobulins\" + 0.003*\"amyloidosis\" + 0.003*\"igg\" + 0.002*\"renal\" + 0.002*\"patients\" + 0.002*\"ulcer\" + 0.002*\"healing\" + 0.002*\"lepromatous\" + 0.002*\"ML\" + 0.002*\"lymphocytes\"'),\n",
       " (15,\n",
       "  '0.002*\"disease\" + 0.002*\"stigma\" + 0.002*\"patients\" + 0.002*\"BCG\" + 0.002*\"people\" + 0.002*\"eyes\" + 0.002*\"among\" + 0.002*\"data\" + 0.002*\"rehabilitation\" + 0.002*\"associated\"'),\n",
       " (16,\n",
       "  '0.004*\"cells\" + 0.002*\"schwann_cells\" + 0.002*\"efficacy\" + 0.002*\"cell\" + 0.002*\"antigen\" + 0.002*\"dendritic_cells\" + 0.002*\"antigens\" + 0.002*\"reversal_reactions\" + 0.002*\"chemoprophylaxis\" + 0.002*\"sera\"')]"
      ]
     },
     "execution_count": 27,
     "metadata": {},
     "output_type": "execute_result"
    }
   ],
   "source": [
    "lda_model1.print_topics()"
   ]
  },
  {
   "cell_type": "code",
   "execution_count": 28,
   "metadata": {},
   "outputs": [
    {
     "name": "stdout",
     "output_type": "stream",
     "text": [
      "Coherence score for lda_model 1:  0.5459249124195412\n"
     ]
    }
   ],
   "source": [
    "print(\"Coherence score for lda_model 1: \",CoherenceModel(model= lda_model1, \n",
    "                        texts=docs,\n",
    "                        corpus=tfidf[corpus], \n",
    "                        dictionary=bow_dict,\n",
    "                        coherence=\"c_v\").get_coherence() )"
   ]
  },
  {
   "cell_type": "markdown",
   "metadata": {},
   "source": [
    "Creating document-topic matrix for clustering documents together based on topics"
   ]
  },
  {
   "cell_type": "code",
   "execution_count": 29,
   "metadata": {},
   "outputs": [],
   "source": [
    "def get_vec_lda(model, corpus, k):  \n",
    "    '''Create a document-topic matrix\n",
    "    \n",
    "    Parameters:\n",
    "    model : trained LDA model\n",
    "    corpus : gensim corpus\n",
    "    k : number of topics\n",
    "\n",
    "    Output:\n",
    "    returns a document-topic matrix of dimension n_doc * k\n",
    "    '''\n",
    "    n_doc = len(corpus)\n",
    "    vec_lda = np.zeros((n_doc, k))\n",
    "    for i in range(n_doc):\n",
    "        for topic, prob in model.get_document_topics(corpus[i]):\n",
    "            vec_lda[i,topic] = prob\n",
    "    return vec_lda\n"
   ]
  },
  {
   "cell_type": "code",
   "execution_count": 30,
   "metadata": {},
   "outputs": [
    {
     "data": {
      "text/plain": [
       "(2400, 17)"
      ]
     },
     "execution_count": 30,
     "metadata": {},
     "output_type": "execute_result"
    }
   ],
   "source": [
    "vec =get_vec_lda(lda_model1, tfidf[corpus],17)\n",
    "doc_top_vec = pd.DataFrame(vec)\n",
    "doc_top_vec.shape"
   ]
  },
  {
   "cell_type": "code",
   "execution_count": 31,
   "metadata": {},
   "outputs": [],
   "source": [
    "# doc-topic dataframe with assigned topic labels based on the max probabilities\n",
    "doc_topic = pd.DataFrame(vec,columns=[f'Topic {i}'for i in range(17)])\n",
    "doc_topic['label']=doc_topic.idxmax(axis='columns')\n",
    "doc_topic['pub_date']=lep_data['publication_year']\n"
   ]
  },
  {
   "cell_type": "code",
   "execution_count": 32,
   "metadata": {},
   "outputs": [
    {
     "data": {
      "image/png": "[encoded data removed]",
      "text/plain": [
       "<Figure size 1000x700 with 1 Axes>"
      ]
     },
     "metadata": {},
     "output_type": "display_data"
    }
   ],
   "source": [
    "grouped_data =doc_topic.groupby(['pub_date','label'])['Topic 0'].count()\n",
    "plt.figure(figsize=(10,7))\n",
    "ax = sns.histplot(x = grouped_data.index.get_level_values('pub_date'),hue=grouped_data.index.get_level_values('label'),\n",
    "                  weights=grouped_data.values,\n",
    "                  multiple='stack',\n",
    "                  binwidth=5)\n",
    "plt.tight_layout()"
   ]
  },
  {
   "cell_type": "markdown",
   "metadata": {},
   "source": [
    "For each topic, I calculated normalised frequency of documents i.e. number of documents published belonging to each topic per year by total number of documents published that year. This will be used to analyse any existing topic trends along these documents over the years."
   ]
  },
  {
   "cell_type": "code",
   "execution_count": 33,
   "metadata": {},
   "outputs": [
    {
     "data": {
      "text/html": [
       "<div>\n",
       "<style scoped>\n",
       "    .dataframe tbody tr th:only-of-type {\n",
       "        vertical-align: middle;\n",
       "    }\n",
       "\n",
       "    .dataframe tbody tr th {\n",
       "        vertical-align: top;\n",
       "    }\n",
       "\n",
       "    .dataframe thead th {\n",
       "        text-align: right;\n",
       "    }\n",
       "</style>\n",
       "<table border=\"1\" class=\"dataframe\">\n",
       "  <thead>\n",
       "    <tr style=\"text-align: right;\">\n",
       "      <th>label</th>\n",
       "      <th>pub_year</th>\n",
       "      <th>Topic 0</th>\n",
       "      <th>Topic 1</th>\n",
       "      <th>Topic 10</th>\n",
       "      <th>Topic 11</th>\n",
       "      <th>Topic 12</th>\n",
       "      <th>Topic 13</th>\n",
       "      <th>Topic 14</th>\n",
       "      <th>Topic 15</th>\n",
       "      <th>Topic 16</th>\n",
       "      <th>Topic 2</th>\n",
       "      <th>Topic 3</th>\n",
       "      <th>Topic 4</th>\n",
       "      <th>Topic 5</th>\n",
       "      <th>Topic 6</th>\n",
       "      <th>Topic 7</th>\n",
       "      <th>Topic 8</th>\n",
       "      <th>Topic 9</th>\n",
       "    </tr>\n",
       "  </thead>\n",
       "  <tbody>\n",
       "    <tr>\n",
       "      <th>0</th>\n",
       "      <td>1966.0</td>\n",
       "      <td>0.0</td>\n",
       "      <td>0.5</td>\n",
       "      <td>0.0</td>\n",
       "      <td>0.0</td>\n",
       "      <td>0.0</td>\n",
       "      <td>0.500000</td>\n",
       "      <td>0.0</td>\n",
       "      <td>0.0</td>\n",
       "      <td>0.000000</td>\n",
       "      <td>0.0</td>\n",
       "      <td>0.0</td>\n",
       "      <td>0.0</td>\n",
       "      <td>0.0</td>\n",
       "      <td>0.0</td>\n",
       "      <td>0.0</td>\n",
       "      <td>0.0</td>\n",
       "      <td>0.0</td>\n",
       "    </tr>\n",
       "    <tr>\n",
       "      <th>1</th>\n",
       "      <td>1967.0</td>\n",
       "      <td>0.0</td>\n",
       "      <td>0.0</td>\n",
       "      <td>0.0</td>\n",
       "      <td>0.0</td>\n",
       "      <td>0.0</td>\n",
       "      <td>0.000000</td>\n",
       "      <td>1.0</td>\n",
       "      <td>0.0</td>\n",
       "      <td>0.000000</td>\n",
       "      <td>0.0</td>\n",
       "      <td>0.0</td>\n",
       "      <td>0.0</td>\n",
       "      <td>0.0</td>\n",
       "      <td>0.0</td>\n",
       "      <td>0.0</td>\n",
       "      <td>0.0</td>\n",
       "      <td>0.0</td>\n",
       "    </tr>\n",
       "    <tr>\n",
       "      <th>2</th>\n",
       "      <td>1969.0</td>\n",
       "      <td>0.0</td>\n",
       "      <td>0.0</td>\n",
       "      <td>0.0</td>\n",
       "      <td>0.0</td>\n",
       "      <td>0.0</td>\n",
       "      <td>0.666667</td>\n",
       "      <td>0.0</td>\n",
       "      <td>0.0</td>\n",
       "      <td>0.333333</td>\n",
       "      <td>0.0</td>\n",
       "      <td>0.0</td>\n",
       "      <td>0.0</td>\n",
       "      <td>0.0</td>\n",
       "      <td>0.0</td>\n",
       "      <td>0.0</td>\n",
       "      <td>0.0</td>\n",
       "      <td>0.0</td>\n",
       "    </tr>\n",
       "    <tr>\n",
       "      <th>3</th>\n",
       "      <td>1970.0</td>\n",
       "      <td>0.0</td>\n",
       "      <td>0.0</td>\n",
       "      <td>0.0</td>\n",
       "      <td>0.0</td>\n",
       "      <td>0.0</td>\n",
       "      <td>0.000000</td>\n",
       "      <td>0.0</td>\n",
       "      <td>0.0</td>\n",
       "      <td>1.000000</td>\n",
       "      <td>0.0</td>\n",
       "      <td>0.0</td>\n",
       "      <td>0.0</td>\n",
       "      <td>0.0</td>\n",
       "      <td>0.0</td>\n",
       "      <td>0.0</td>\n",
       "      <td>0.0</td>\n",
       "      <td>0.0</td>\n",
       "    </tr>\n",
       "    <tr>\n",
       "      <th>4</th>\n",
       "      <td>1971.0</td>\n",
       "      <td>0.0</td>\n",
       "      <td>0.0</td>\n",
       "      <td>0.0</td>\n",
       "      <td>0.0</td>\n",
       "      <td>0.0</td>\n",
       "      <td>0.500000</td>\n",
       "      <td>0.0</td>\n",
       "      <td>0.5</td>\n",
       "      <td>0.000000</td>\n",
       "      <td>0.0</td>\n",
       "      <td>0.0</td>\n",
       "      <td>0.0</td>\n",
       "      <td>0.0</td>\n",
       "      <td>0.0</td>\n",
       "      <td>0.0</td>\n",
       "      <td>0.0</td>\n",
       "      <td>0.0</td>\n",
       "    </tr>\n",
       "  </tbody>\n",
       "</table>\n",
       "</div>"
      ],
      "text/plain": [
       "label  pub_year  Topic 0  Topic 1  Topic 10  Topic 11  Topic 12  Topic 13  \\\n",
       "0        1966.0      0.0      0.5       0.0       0.0       0.0  0.500000   \n",
       "1        1967.0      0.0      0.0       0.0       0.0       0.0  0.000000   \n",
       "2        1969.0      0.0      0.0       0.0       0.0       0.0  0.666667   \n",
       "3        1970.0      0.0      0.0       0.0       0.0       0.0  0.000000   \n",
       "4        1971.0      0.0      0.0       0.0       0.0       0.0  0.500000   \n",
       "\n",
       "label  Topic 14  Topic 15  Topic 16  Topic 2  Topic 3  Topic 4  Topic 5  \\\n",
       "0           0.0       0.0  0.000000      0.0      0.0      0.0      0.0   \n",
       "1           1.0       0.0  0.000000      0.0      0.0      0.0      0.0   \n",
       "2           0.0       0.0  0.333333      0.0      0.0      0.0      0.0   \n",
       "3           0.0       0.0  1.000000      0.0      0.0      0.0      0.0   \n",
       "4           0.0       0.5  0.000000      0.0      0.0      0.0      0.0   \n",
       "\n",
       "label  Topic 6  Topic 7  Topic 8  Topic 9  \n",
       "0          0.0      0.0      0.0      0.0  \n",
       "1          0.0      0.0      0.0      0.0  \n",
       "2          0.0      0.0      0.0      0.0  \n",
       "3          0.0      0.0      0.0      0.0  \n",
       "4          0.0      0.0      0.0      0.0  "
      ]
     },
     "execution_count": 33,
     "metadata": {},
     "output_type": "execute_result"
    }
   ],
   "source": [
    "# normalised frequency of each topic by year\n",
    "total_articles_per_year = doc_topic.groupby('pub_date')['label'].count()\n",
    "num_articles_by_topic_per_year = doc_topic.groupby('pub_date')['label'].value_counts()/total_articles_per_year\n",
    "\n",
    "# creating a dataframe\n",
    "norm_freq=pd.DataFrame(num_articles_by_topic_per_year).reset_index()\n",
    "norm_freq_df =  norm_freq.pivot(index='pub_date',columns='label').reset_index()\n",
    "norm_freq_df.columns = norm_freq_df.columns.droplevel(0)\n",
    "norm_freq_df.rename(columns={'':'pub_year'},inplace=True)\n",
    "\n",
    "# Replacing all the NaN values with 0\n",
    "norm_freq_df=norm_freq_df.fillna(0)\n",
    "norm_freq_df.head()"
   ]
  },
  {
   "cell_type": "code",
   "execution_count": 34,
   "metadata": {},
   "outputs": [
    {
     "data": {
      "image/png": "[encoded data removed]",
      "text/plain": [
       "<Figure size 1800x1000 with 16 Axes>"
      ]
     },
     "metadata": {},
     "output_type": "display_data"
    }
   ],
   "source": [
    "fig, axes = plt.subplots(4,4,figsize=(18,10))\n",
    "for i, ax in enumerate(axes.flatten()):\n",
    "    ax.plot(norm_freq_df['pub_year'],norm_freq_df[f'Topic {i}'])\n",
    "    ax.set_title(f\"Topic-{i}\")\n",
    "    ax.set_xlabel('Year')\n",
    "    ax.grid(axis='y')\n",
    "plt.tight_layout()"
   ]
  },
  {
   "cell_type": "markdown",
   "metadata": {},
   "source": [
    "Mann-Kendall test is common non-parametric test used to identify any existing monotonic trends in the data."
   ]
  },
  {
   "cell_type": "code",
   "execution_count": 35,
   "metadata": {},
   "outputs": [
    {
     "data": {
      "text/html": [
       "<div>\n",
       "<style scoped>\n",
       "    .dataframe tbody tr th:only-of-type {\n",
       "        vertical-align: middle;\n",
       "    }\n",
       "\n",
       "    .dataframe tbody tr th {\n",
       "        vertical-align: top;\n",
       "    }\n",
       "\n",
       "    .dataframe thead th {\n",
       "        text-align: right;\n",
       "    }\n",
       "</style>\n",
       "<table border=\"1\" class=\"dataframe\">\n",
       "  <thead>\n",
       "    <tr style=\"text-align: right;\">\n",
       "      <th></th>\n",
       "      <th>Topics</th>\n",
       "      <th>Trend</th>\n",
       "      <th>p_value</th>\n",
       "      <th>z_Score</th>\n",
       "    </tr>\n",
       "  </thead>\n",
       "  <tbody>\n",
       "    <tr>\n",
       "      <th>0</th>\n",
       "      <td>Topic 1</td>\n",
       "      <td>no trend</td>\n",
       "      <td>2.450478e-01</td>\n",
       "      <td>-1.162462</td>\n",
       "    </tr>\n",
       "    <tr>\n",
       "      <th>1</th>\n",
       "      <td>Topic 10</td>\n",
       "      <td>no trend</td>\n",
       "      <td>1.252701e-01</td>\n",
       "      <td>1.533023</td>\n",
       "    </tr>\n",
       "    <tr>\n",
       "      <th>2</th>\n",
       "      <td>Topic 11</td>\n",
       "      <td>increasing</td>\n",
       "      <td>5.225538e-05</td>\n",
       "      <td>4.045303</td>\n",
       "    </tr>\n",
       "    <tr>\n",
       "      <th>3</th>\n",
       "      <td>Topic 12</td>\n",
       "      <td>no trend</td>\n",
       "      <td>8.139369e-01</td>\n",
       "      <td>0.235350</td>\n",
       "    </tr>\n",
       "    <tr>\n",
       "      <th>4</th>\n",
       "      <td>Topic 13</td>\n",
       "      <td>no trend</td>\n",
       "      <td>3.649829e-01</td>\n",
       "      <td>-0.905911</td>\n",
       "    </tr>\n",
       "    <tr>\n",
       "      <th>5</th>\n",
       "      <td>Topic 14</td>\n",
       "      <td>no trend</td>\n",
       "      <td>2.521372e-01</td>\n",
       "      <td>-1.145174</td>\n",
       "    </tr>\n",
       "    <tr>\n",
       "      <th>6</th>\n",
       "      <td>Topic 15</td>\n",
       "      <td>increasing</td>\n",
       "      <td>1.418993e-07</td>\n",
       "      <td>5.262772</td>\n",
       "    </tr>\n",
       "    <tr>\n",
       "      <th>7</th>\n",
       "      <td>Topic 16</td>\n",
       "      <td>decreasing</td>\n",
       "      <td>3.206378e-02</td>\n",
       "      <td>-2.143615</td>\n",
       "    </tr>\n",
       "    <tr>\n",
       "      <th>8</th>\n",
       "      <td>Topic 2</td>\n",
       "      <td>no trend</td>\n",
       "      <td>6.405502e-01</td>\n",
       "      <td>0.466930</td>\n",
       "    </tr>\n",
       "    <tr>\n",
       "      <th>9</th>\n",
       "      <td>Topic 3</td>\n",
       "      <td>no trend</td>\n",
       "      <td>2.467005e-01</td>\n",
       "      <td>1.158401</td>\n",
       "    </tr>\n",
       "    <tr>\n",
       "      <th>10</th>\n",
       "      <td>Topic 4</td>\n",
       "      <td>increasing</td>\n",
       "      <td>3.250590e-04</td>\n",
       "      <td>3.594465</td>\n",
       "    </tr>\n",
       "    <tr>\n",
       "      <th>11</th>\n",
       "      <td>Topic 5</td>\n",
       "      <td>increasing</td>\n",
       "      <td>6.176010e-03</td>\n",
       "      <td>2.738287</td>\n",
       "    </tr>\n",
       "    <tr>\n",
       "      <th>12</th>\n",
       "      <td>Topic 6</td>\n",
       "      <td>no trend</td>\n",
       "      <td>1.893481e-01</td>\n",
       "      <td>1.312510</td>\n",
       "    </tr>\n",
       "    <tr>\n",
       "      <th>13</th>\n",
       "      <td>Topic 7</td>\n",
       "      <td>increasing</td>\n",
       "      <td>3.239508e-04</td>\n",
       "      <td>3.595354</td>\n",
       "    </tr>\n",
       "    <tr>\n",
       "      <th>14</th>\n",
       "      <td>Topic 8</td>\n",
       "      <td>increasing</td>\n",
       "      <td>1.548425e-02</td>\n",
       "      <td>2.420850</td>\n",
       "    </tr>\n",
       "    <tr>\n",
       "      <th>15</th>\n",
       "      <td>Topic 9</td>\n",
       "      <td>no trend</td>\n",
       "      <td>7.618445e-01</td>\n",
       "      <td>-0.303060</td>\n",
       "    </tr>\n",
       "  </tbody>\n",
       "</table>\n",
       "</div>"
      ],
      "text/plain": [
       "      Topics       Trend       p_value   z_Score\n",
       "0    Topic 1    no trend  2.450478e-01 -1.162462\n",
       "1   Topic 10    no trend  1.252701e-01  1.533023\n",
       "2   Topic 11  increasing  5.225538e-05  4.045303\n",
       "3   Topic 12    no trend  8.139369e-01  0.235350\n",
       "4   Topic 13    no trend  3.649829e-01 -0.905911\n",
       "5   Topic 14    no trend  2.521372e-01 -1.145174\n",
       "6   Topic 15  increasing  1.418993e-07  5.262772\n",
       "7   Topic 16  decreasing  3.206378e-02 -2.143615\n",
       "8    Topic 2    no trend  6.405502e-01  0.466930\n",
       "9    Topic 3    no trend  2.467005e-01  1.158401\n",
       "10   Topic 4  increasing  3.250590e-04  3.594465\n",
       "11   Topic 5  increasing  6.176010e-03  2.738287\n",
       "12   Topic 6    no trend  1.893481e-01  1.312510\n",
       "13   Topic 7  increasing  3.239508e-04  3.595354\n",
       "14   Topic 8  increasing  1.548425e-02  2.420850\n",
       "15   Topic 9    no trend  7.618445e-01 -0.303060"
      ]
     },
     "execution_count": 35,
     "metadata": {},
     "output_type": "execute_result"
    }
   ],
   "source": [
    "import pymannkendall as mk\n",
    "trend = []\n",
    "p_val = []\n",
    "Z_Score = []\n",
    "for col in norm_freq_df.columns[2:]:\n",
    "    trend.append(mk.original_test(norm_freq_df[col]).trend)\n",
    "    p_val.append(mk.original_test(norm_freq_df[col]).p)\n",
    "    Z_Score.append(mk.original_test(norm_freq_df[col]).z)\n",
    "cols = norm_freq_df.columns[2:].to_list()\n",
    "\n",
    "mk_df = pd.DataFrame({\n",
    "    'Topics':cols,\n",
    "    'Trend': trend,\n",
    "    'p_value':p_val,\n",
    "    'z_Score':Z_Score\n",
    "})\n",
    "mk_df"
   ]
  }
 ],
 "metadata": {
  "kernelspec": {
   "display_name": "myvenv",
   "language": "python",
   "name": "python3"
  },
  "language_info": {
   "codemirror_mode": {
    "name": "ipython",
    "version": 3
   },
   "file_extension": ".py",
   "mimetype": "text/x-python",
   "name": "python",
   "nbconvert_exporter": "python",
   "pygments_lexer": "ipython3",
   "version": "3.10.12"
  },
  "orig_nbformat": 4
 },
 "nbformat": 4,
 "nbformat_minor": 2
}
